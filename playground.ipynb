{
 "cells": [
  {
   "cell_type": "code",
   "execution_count": null,
   "id": "bright-scoop",
   "metadata": {},
   "outputs": [],
   "source": [
    "import pandas as pd \n",
    "from cadCAD.configuration.utils import config_sim"
   ]
  },
  {
   "cell_type": "code",
   "execution_count": null,
   "id": "placed-mission",
   "metadata": {},
   "outputs": [],
   "source": [
    "# Additional dependencies\n",
    "\n",
    "# For parsing the data from the API\n",
    "import json\n",
    "# For downloading data from API\n",
    "import requests as req\n",
    "# For generating random numbers\n",
    "import math\n",
    "# For visualization\n",
    "import plotly.express as px\n",
    "# For Google BigQuery authentication\n",
    "from google.oauth2 import service_account"
   ]
  },
  {
   "cell_type": "code",
   "execution_count": null,
   "id": "facial-absence",
   "metadata": {},
   "outputs": [],
   "source": [
    "%%capture\n",
    "\n",
    "credentials = service_account.Credentials.from_service_account_file(\n",
    "    './credentials.json',\n",
    ")\n",
    "\n",
    "QUERY = \"\"\"\n",
    "SELECT * FROM blockchain-etl.ethereum_balancer.V2_Vault_event_PoolBalanceChanged\n",
    "WHERE poolId = \"0x96646936b91d6b9d7d0c47c496afbf3d6ec7b6f8000200000000000000000019\"\n",
    "ORDER BY block_timestamp DESC\n",
    "\"\"\"\n",
    "\n",
    "# Send the SQL query to the ethereum-etl dataset\n",
    "# on Google BigQuery.\n",
    "# Requires the pandas-gbq library\n",
    "supply_data = pd.read_gbq(QUERY, project_id=\"blockchain-319713\", credentials=credentials)\n",
    "\n",
    "# Print the last 5 rows\n",
    "supply_data.tail(5)"
   ]
  },
  {
   "cell_type": "code",
   "execution_count": null,
   "id": "classified-entry",
   "metadata": {
    "scrolled": false
   },
   "outputs": [],
   "source": [
    "supply_data"
   ]
  },
  {
   "cell_type": "code",
   "execution_count": null,
   "id": "specified-grant",
   "metadata": {},
   "outputs": [],
   "source": [
    "%%capture\n",
    "\n",
    "credentials = service_account.Credentials.from_service_account_file(\n",
    "    './credentials.json',\n",
    ")\n",
    "\n",
    "QUERY = \"\"\"\n",
    "SELECT * FROM blockchain-etl.ethereum_balancer.V2_Vault_event_Swap\n",
    "WHERE poolId = \"0x96646936b91d6b9d7d0c47c496afbf3d6ec7b6f8000200000000000000000019\"\n",
    "ORDER BY block_timestamp DESC\n",
    "\"\"\"\n",
    "\n",
    "# Send the SQL query to the ethereum-etl dataset\n",
    "# on Google BigQuery.\n",
    "# Requires the pandas-gbq library\n",
    "swap_data = pd.read_gbq(QUERY, project_id=\"blockchain-319713\", credentials=credentials)\n",
    "\n",
    "# Print the last 5 rows\n",
    "swap_data.tail(5)"
   ]
  },
  {
   "cell_type": "code",
   "execution_count": null,
   "id": "individual-fourth",
   "metadata": {},
   "outputs": [],
   "source": [
    "tokens = {\n",
    "    \"0xa0b86991c6218b36c1d19d4a2e9eb0ce3606eb48\": {\n",
    "        \"ticker\": \"UDSC\",\n",
    "        \"decimal\": 6\n",
    "    },\n",
    "    \"0xc02aaa39b223fe8d0a0e5c4f27ead9083c756cc2\": {\n",
    "        \"ticker\": \"WETH\",\n",
    "        \"decimal\": 18\n",
    "    }\n",
    "}"
   ]
  },
  {
   "cell_type": "code",
   "execution_count": null,
   "id": "social-interest",
   "metadata": {},
   "outputs": [],
   "source": [
    "swap_data"
   ]
  },
  {
   "cell_type": "code",
   "execution_count": null,
   "id": "incomplete-dallas",
   "metadata": {},
   "outputs": [],
   "source": [
    "swap_data[]"
   ]
  },
  {
   "cell_type": "markdown",
   "id": "refined-staff",
   "metadata": {},
   "source": [
    "### Initialize pool"
   ]
  },
  {
   "cell_type": "code",
   "execution_count": null,
   "id": "ancient-excitement",
   "metadata": {},
   "outputs": [],
   "source": [
    "from decimal import *\n",
    "from BalancerV2cad.WeightedPool import WeightedPool"
   ]
  },
  {
   "cell_type": "code",
   "execution_count": null,
   "id": "relevant-invalid",
   "metadata": {},
   "outputs": [],
   "source": [
    "wp = WeightedPool()\n",
    "wp._swap_fee = Decimal(0.003)\n",
    "wp.join_pool({'a':100,'b':100},{'a':0.5,'b':0.5})\n",
    "\n",
    "print(wp.swap('b', 'a', 1, given_in=False))\n",
    "print(wp._balances['a'], wp._balances['b'], wp.factory_fees)"
   ]
  },
  {
   "cell_type": "code",
   "execution_count": null,
   "id": "whole-customer",
   "metadata": {},
   "outputs": [],
   "source": [
    "from BalancerV2cad.WeightedMath import WeightedMath"
   ]
  },
  {
   "cell_type": "code",
   "execution_count": null,
   "id": "refined-family",
   "metadata": {},
   "outputs": [],
   "source": [
    "# calc_in_given_out(balance_in: Decimal,\n",
    "#                           weight_in: Decimal,\n",
    "#                           balance_out: Decimal,\n",
    "#                           weight_out: Decimal,\n",
    "#                           amount_out: Decimal):"
   ]
  },
  {
   "cell_type": "code",
   "execution_count": null,
   "id": "higher-variety",
   "metadata": {},
   "outputs": [],
   "source": [
    "def changePoolWeights(wp, new_weights):\n",
    "    new_pool = WeightedPool()\n",
    "    balances = wp._balances\n",
    "    new_pool.join_pool(balances,new_weights)\n",
    "    new_pool.factory_fees = wp.factory_fees\n",
    "    return new_pool\n",
    "\n",
    "updated_wp = changePoolWeights(wp, {'a': 0.2, 'b': 0.8})"
   ]
  },
  {
   "cell_type": "code",
   "execution_count": null,
   "id": "general-expert",
   "metadata": {},
   "outputs": [],
   "source": [
    "updated_wp._weights"
   ]
  },
  {
   "cell_type": "code",
   "execution_count": null,
   "id": "ecological-summer",
   "metadata": {},
   "outputs": [],
   "source": [
    "updated_wp.factory_fees"
   ]
  },
  {
   "cell_type": "code",
   "execution_count": null,
   "id": "genetic-anniversary",
   "metadata": {},
   "outputs": [],
   "source": [
    "from scipy.optimize import fsolve\n",
    "import numpy as np\n",
    "def func(x):\n",
    "    return [x[0] * np.cos(x[1]) - 4,\n",
    "            x[1] * x[0] - x[1] - 5]\n",
    "root = fsolve(func, [1, 1])\n",
    "print(root)"
   ]
  },
  {
   "cell_type": "code",
   "execution_count": null,
   "id": "assigned-adelaide",
   "metadata": {},
   "outputs": [],
   "source": [
    "from scipy.optimize import fsolve\n",
    "import numpy as np\n",
    "\n",
    "a_bal = 100\n",
    "a_weight = 0.5\n",
    "b_bal = 100\n",
    "b_weight = 0.5\n",
    "new_price = 4.34739457389\n",
    "\n",
    "def func(x):\n",
    "    return [x[0] + x[1] - 1,\n",
    "            a_bal*x[1] - new_price*b_bal*x[0]]\n",
    "root = fsolve(func, [0.5, 0.5])\n",
    "print(root)"
   ]
  },
  {
   "cell_type": "code",
   "execution_count": null,
   "id": "original-chart",
   "metadata": {},
   "outputs": [],
   "source": [
    "# Stop when difference between weight-adjusted price is within 0.05% of new_price (< 0.0005x)\n",
    "def find_optimal_weights(a_bal, a_weight, b_bal, b_weight, new_price):\n",
    "    def func(x):\n",
    "        return [x[0] + x[1] - 1,\n",
    "            b_bal*x[0] - new_price*a_bal*x[1]]\n",
    "    root = fsolve(func, [0.5, 0.5])\n",
    "    return root\n",
    "\n",
    "\n",
    "\n",
    "find_optimal_weights(100, 0.5, 100, 0.5, 4)"
   ]
  },
  {
   "cell_type": "markdown",
   "id": "0b44eddf",
   "metadata": {},
   "source": [
    "## Chainlink Price Data"
   ]
  },
  {
   "cell_type": "code",
   "execution_count": null,
   "id": "95401560",
   "metadata": {
    "scrolled": true
   },
   "outputs": [],
   "source": [
    "from web3 import Web3\n",
    "\n",
    "# Change this to use your own Infura ID\n",
    "web3 = Web3(Web3.HTTPProvider('https://mainnet.infura.io/v3/1483415a8185479793708205947c7080'))\n",
    "# AggregatorV3Interface ABI\n",
    "abi = '[{\"inputs\":[],\"name\":\"decimals\",\"outputs\":[{\"internalType\":\"uint8\",\"name\":\"\",\"type\":\"uint8\"}],\"stateMutability\":\"view\",\"type\":\"function\"},{\"inputs\":[],\"name\":\"description\",\"outputs\":[{\"internalType\":\"string\",\"name\":\"\",\"type\":\"string\"}],\"stateMutability\":\"view\",\"type\":\"function\"},{\"inputs\":[{\"internalType\":\"uint80\",\"name\":\"_roundId\",\"type\":\"uint80\"}],\"name\":\"getRoundData\",\"outputs\":[{\"internalType\":\"uint80\",\"name\":\"roundId\",\"type\":\"uint80\"},{\"internalType\":\"int256\",\"name\":\"answer\",\"type\":\"int256\"},{\"internalType\":\"uint256\",\"name\":\"startedAt\",\"type\":\"uint256\"},{\"internalType\":\"uint256\",\"name\":\"updatedAt\",\"type\":\"uint256\"},{\"internalType\":\"uint80\",\"name\":\"answeredInRound\",\"type\":\"uint80\"}],\"stateMutability\":\"view\",\"type\":\"function\"},{\"inputs\":[],\"name\":\"latestRoundData\",\"outputs\":[{\"internalType\":\"uint80\",\"name\":\"roundId\",\"type\":\"uint80\"},{\"internalType\":\"int256\",\"name\":\"answer\",\"type\":\"int256\"},{\"internalType\":\"uint256\",\"name\":\"startedAt\",\"type\":\"uint256\"},{\"internalType\":\"uint256\",\"name\":\"updatedAt\",\"type\":\"uint256\"},{\"internalType\":\"uint80\",\"name\":\"answeredInRound\",\"type\":\"uint80\"}],\"stateMutability\":\"view\",\"type\":\"function\"},{\"inputs\":[],\"name\":\"version\",\"outputs\":[{\"internalType\":\"uint256\",\"name\":\"\",\"type\":\"uint256\"}],\"stateMutability\":\"view\",\"type\":\"function\"}]'\n",
    "# Price Feed address\n",
    "addr = '0x5f4eC3Df9cbd43714FE2740f5E3616155c5b8419'\n",
    "\n",
    "# Set up contract instance\n",
    "contract = web3.eth.contract(address=addr, abi=abi)\n",
    "\n",
    "#  Valid roundId must be known. They are NOT incremental.\n",
    "# invalidRoundId = 18446744073709562300\n",
    "validRoundId = 92233720368547765431\n",
    "\n",
    "historicalData = contract.functions.getRoundData(validRoundId).call()\n",
    "print(historicalData)"
   ]
  },
  {
   "cell_type": "code",
   "execution_count": null,
   "id": "c5091055",
   "metadata": {},
   "outputs": [],
   "source": [
    "web3 = Web3(Web3.HTTPProvider('https://mainnet.infura.io/v3/1483415a8185479793708205947c7080'))\n",
    "abi = '[{\"inputs\":[],\"name\":\"decimals\",\"outputs\":[{\"internalType\":\"uint8\",\"name\":\"\",\"type\":\"uint8\"}],\"stateMutability\":\"view\",\"type\":\"function\"},{\"inputs\":[],\"name\":\"description\",\"outputs\":[{\"internalType\":\"string\",\"name\":\"\",\"type\":\"string\"}],\"stateMutability\":\"view\",\"type\":\"function\"},{\"inputs\":[{\"internalType\":\"uint80\",\"name\":\"_roundId\",\"type\":\"uint80\"}],\"name\":\"getRoundData\",\"outputs\":[{\"internalType\":\"uint80\",\"name\":\"roundId\",\"type\":\"uint80\"},{\"internalType\":\"int256\",\"name\":\"answer\",\"type\":\"int256\"},{\"internalType\":\"uint256\",\"name\":\"startedAt\",\"type\":\"uint256\"},{\"internalType\":\"uint256\",\"name\":\"updatedAt\",\"type\":\"uint256\"},{\"internalType\":\"uint80\",\"name\":\"answeredInRound\",\"type\":\"uint80\"}],\"stateMutability\":\"view\",\"type\":\"function\"},{\"inputs\":[],\"name\":\"latestRoundData\",\"outputs\":[{\"internalType\":\"uint80\",\"name\":\"roundId\",\"type\":\"uint80\"},{\"internalType\":\"int256\",\"name\":\"answer\",\"type\":\"int256\"},{\"internalType\":\"uint256\",\"name\":\"startedAt\",\"type\":\"uint256\"},{\"internalType\":\"uint256\",\"name\":\"updatedAt\",\"type\":\"uint256\"},{\"internalType\":\"uint80\",\"name\":\"answeredInRound\",\"type\":\"uint80\"}],\"stateMutability\":\"view\",\"type\":\"function\"},{\"inputs\":[],\"name\":\"version\",\"outputs\":[{\"internalType\":\"uint256\",\"name\":\"\",\"type\":\"uint256\"}],\"stateMutability\":\"view\",\"type\":\"function\"}]'\n",
    "addr = '0x5f4eC3Df9cbd43714FE2740f5E3616155c5b8419'\n",
    "contract = web3.eth.contract(address=addr, abi=abi)\n",
    "latestData = contract.functions.latestRoundData().call()\n",
    "print(latestData)"
   ]
  },
  {
   "cell_type": "code",
   "execution_count": null,
   "id": "f5ac5515",
   "metadata": {},
   "outputs": [],
   "source": [
    "# For parsing the data from the API\n",
    "import json\n",
    "# For downloading data from API\n",
    "import requests as req\n",
    "\n",
    "# You can explore the subgraph at https://thegraph.com/explorer/subgraph/balancer-labs/balancer\n",
    "API_URI = 'https://api.thegraph.com/subgraphs/name/tomafrench/chainlink'\n",
    "\n",
    "# Query for retrieving the history of swaps on a BAL <> UNI 50-50 pool\n",
    "GRAPH_QUERY = '''\n",
    "{\n",
    "    prices(id: \"0x5f4eC3Df9cbd43714FE2740f5E3616155c5b8419\", orderBy: blockNumber, where:{blockNumber_gt: \"9411668\"}) {\n",
    "        id\n",
    "        blockNumber\n",
    "        price\n",
    "    }\n",
    "}\n",
    "'''\n",
    "\n",
    "# Retrieve data from query\n",
    "JSON = {'query': GRAPH_QUERY}\n",
    "r = req.post(API_URI, json=JSON)\n",
    "graph_data = json.loads(r.content)['data']\n",
    "\n",
    "print(\"Print first 500 characters of the response\")\n",
    "print(r.text[:500])"
   ]
  },
  {
   "cell_type": "code",
   "execution_count": null,
   "id": "945decff",
   "metadata": {},
   "outputs": [],
   "source": [
    "n = [int(i['blockNumber']) for i in graph_data['prices']]"
   ]
  },
  {
   "cell_type": "code",
   "execution_count": null,
   "id": "deec3c11",
   "metadata": {},
   "outputs": [],
   "source": [
    "print(sorted(n)[0], sorted(n)[-1])"
   ]
  },
  {
   "cell_type": "code",
   "execution_count": null,
   "id": "ce44cb0f",
   "metadata": {},
   "outputs": [],
   "source": [
    "9152406 9411668"
   ]
  },
  {
   "cell_type": "code",
   "execution_count": null,
   "id": "31681afb",
   "metadata": {
    "scrolled": true
   },
   "outputs": [],
   "source": [
    "# For parsing the data from the API\n",
    "import json\n",
    "# For downloading data from API\n",
    "import requests as req\n",
    "# For reducing calls/second to API\n",
    "import time\n",
    "\n",
    "def getPricesSinceBlockNumber(blockNumber):\n",
    "    API_URI = 'https://api.thegraph.com/subgraphs/name/tomafrench/chainlink'\n",
    "\n",
    "    GRAPH_QUERY = \"\"\"\n",
    "{\n",
    "  prices(where:{ assetPair: \"USDC/ETH\", blockNumber_gte: \"%d\"}, orderBy: blockNumber) {\n",
    "    id\n",
    "    blockNumber\n",
    "    price\n",
    "    timestamp\n",
    "    priceDeviation\n",
    "    timeSincePreviousPrice\n",
    "  }\n",
    "}\n",
    "    \"\"\" % (blockNumber)\n",
    "    # Retrieve data from query\n",
    "    JSON = {'query': GRAPH_QUERY}\n",
    "    r = req.post(API_URI, json=JSON)\n",
    "    graph_data = json.loads(r.content)['data']['prices']\n",
    "    return graph_data"
   ]
  },
  {
   "cell_type": "code",
   "execution_count": null,
   "id": "824516d0",
   "metadata": {
    "scrolled": false
   },
   "outputs": [],
   "source": [
    "prices = []\n",
    "blockNumbers = []\n",
    "timestamps = []\n",
    "earliestBlockNumber = 12502801\n",
    "\n",
    "blockNumber = earliestBlockNumber\n",
    "\n",
    "i = 0\n",
    "while True:\n",
    "    start = blockNumber\n",
    "    graph_data = getPricesSinceBlockNumber(blockNumber)\n",
    "    \n",
    "    if len(graph_data) == 0:\n",
    "        break\n",
    "    else:\n",
    "        prices += graph_data\n",
    "        blockNumbers += sorted([int(i['blockNumber']) for i in graph_data])\n",
    "        timestamps += sorted([int(i['timestamp']) for i in graph_data])\n",
    "        blockNumber = blockNumbers[-1]+1\n",
    "        print(\"Fetched {}-{}\".format(start, blockNumber))\n",
    "        time.sleep(0.5)\n",
    "    i += 1"
   ]
  },
  {
   "cell_type": "code",
   "execution_count": null,
   "id": "abd1d227",
   "metadata": {},
   "outputs": [],
   "source": [
    "import matplotlib.pyplot as plt\n",
    "import numpy as np\n",
    "\n",
    "plt.plot([int(i['timestamp']) for i in prices], [1/(int(i['price'])/1e18) for i in prices])"
   ]
  },
  {
   "cell_type": "code",
   "execution_count": null,
   "id": "335bd403",
   "metadata": {},
   "outputs": [],
   "source": [
    "len(prices)"
   ]
  },
  {
   "cell_type": "code",
   "execution_count": null,
   "id": "9a4611c4",
   "metadata": {},
   "outputs": [],
   "source": [
    "(max(blockNumbers) - min(blockNumbers))"
   ]
  },
  {
   "cell_type": "code",
   "execution_count": null,
   "id": "259577dc",
   "metadata": {
    "scrolled": true
   },
   "outputs": [],
   "source": [
    "[i['price'] for i in prices]"
   ]
  },
  {
   "cell_type": "code",
   "execution_count": null,
   "id": "9e776903",
   "metadata": {},
   "outputs": [],
   "source": []
  },
  {
   "cell_type": "code",
   "execution_count": null,
   "id": "381bdd4f",
   "metadata": {},
   "outputs": [],
   "source": [
    "from scipy.optimize import fsolve\n",
    "import numpy as np\n",
    "\n",
    "a_bal = 100\n",
    "a_weight = 0.5\n",
    "b_bal = 100\n",
    "b_weight = 0.5\n",
    "new_price = 4.34739457389\n",
    "\n",
    "def func(x):\n",
    "    return [x[0] + x[1] - 1,\n",
    "            a_bal*x[1] - new_price*b_bal*x[0]]\n",
    "root = fsolve(func, [0.5, 0.5])\n",
    "print(root)"
   ]
  },
  {
   "cell_type": "code",
   "execution_count": null,
   "id": "983660a7",
   "metadata": {},
   "outputs": [],
   "source": [
    "from decimal import *\n",
    "from BalancerV2cad.WeightedPool import WeightedPool\n",
    "from BalancerV2cad.WeightedMath import WeightedMath\n",
    "\n",
    "from BalancerV2cad.util import *\n",
    "from BalancerV2cad.BalancerConstants import *\n",
    "\n",
    "wp = WeightedPool()\n",
    "wp._swap_fee = Decimal(0.003)\n",
    "wp.join_pool({'a':100,'b':100*150},{'a':0.5,'b':0.5})\n",
    "\n",
    "print(wp._balances['a'], wp._balances['b'], wp.factory_fees)"
   ]
  },
  {
   "cell_type": "code",
   "execution_count": null,
   "id": "713686c8",
   "metadata": {
    "scrolled": true
   },
   "outputs": [],
   "source": [
    "# WeightedMath.calc_out_given_in(balance_in: Decimal, \n",
    "#                           weight_in: Decimal,\n",
    "#                           balance_out: Decimal,\n",
    "#                           weight_out: Decimal,\n",
    "#                           amount_in: Decimal) \n",
    "\n",
    "WeightedMath.calc_out_given_in(wp._balances['a'],wp._weights['a'],wp._balances['b'],wp._weights['b'],1)"
   ]
  },
  {
   "cell_type": "code",
   "execution_count": null,
   "id": "14a8398a",
   "metadata": {
    "scrolled": true
   },
   "outputs": [],
   "source": [
    "def func(x):\n",
    "    cex_price=145.0\n",
    "    return [\n",
    "            divDown(WeightedMath.calc_out_given_in(wp._balances['a'],wp._weights['a'],wp._balances['b'],wp._weights['b'],Decimal(x[0])), Decimal(x[0]))-Decimal(cex_price)]\n",
    "fsolve(func, [1.0])"
   ]
  },
  {
   "cell_type": "code",
   "execution_count": null,
   "id": "a2208ab8",
   "metadata": {},
   "outputs": [],
   "source": [
    "num =wp._balances['b'] / wp._weights['b']\n",
    "denom = wp._balances['a'] / wp._weights['a']\n",
    "num/denom"
   ]
  },
  {
   "cell_type": "code",
   "execution_count": null,
   "id": "b0b82d3b",
   "metadata": {},
   "outputs": [],
   "source": [
    "wp.swap('a', 'b', 3.44827586, given_in=True)"
   ]
  },
  {
   "cell_type": "code",
   "execution_count": null,
   "id": "e1ea7b40",
   "metadata": {},
   "outputs": [],
   "source": [
    "498.5541925515715067475568890/3.44827586"
   ]
  },
  {
   "cell_type": "code",
   "execution_count": null,
   "id": "47244d6b",
   "metadata": {},
   "outputs": [],
   "source": [
    "num =wp._balances['b'] / wp._weights['b']\n",
    "denom = wp._balances['a'] / wp._weights['a']\n",
    "num/denom"
   ]
  },
  {
   "cell_type": "markdown",
   "id": "c3b54c05",
   "metadata": {},
   "source": [
    "## Trying to maximise arbitrager return.\n",
    "\n",
    "Need to approach the problem of figuring out $A_o$ and $A_i$ such that any additional $A_i+\\delta$ results in a lower rate than the $cex$"
   ]
  },
  {
   "cell_type": "code",
   "execution_count": null,
   "id": "537cfb80",
   "metadata": {},
   "outputs": [],
   "source": [
    "from decimal import *\n",
    "from BalancerV2cad.WeightedPool import WeightedPool\n",
    "from BalancerV2cad.WeightedMath import WeightedMath\n",
    "\n",
    "from BalancerV2cad.util import *\n",
    "from BalancerV2cad.BalancerConstants import *\n",
    "\n",
    "wp = WeightedPool()\n",
    "wp._swap_fee = Decimal(0.003)\n",
    "wp.join_pool({'a':100,'b':100*150},{'a':0.5,'b':0.5})\n",
    "\n",
    "print(wp._balances['a'], wp._balances['b'], wp.factory_fees)"
   ]
  },
  {
   "cell_type": "code",
   "execution_count": null,
   "id": "717555ab",
   "metadata": {},
   "outputs": [],
   "source": [
    "num =wp._balances['b'] / wp._weights['b']\n",
    "denom = wp._balances['a'] / wp._weights['a']\n",
    "num/denom"
   ]
  },
  {
   "cell_type": "code",
   "execution_count": null,
   "id": "08bb6659",
   "metadata": {},
   "outputs": [],
   "source": [
    "cex_price=155.0"
   ]
  },
  {
   "cell_type": "code",
   "execution_count": null,
   "id": "5a6598a1",
   "metadata": {},
   "outputs": [],
   "source": [
    "def func(x):\n",
    "    return [\n",
    "            divDown(\n",
    "                divDown(\n",
    "                    wp._balances['b']+mulDown( #Num\n",
    "                        Decimal(x[0]), 1-wp._swap_fee), #Num\n",
    "                    wp._weights['b'] #Denom\n",
    "                ), \n",
    "                divDown( #Denom\n",
    "                    wp._balances['a']-WeightedMath.calc_out_given_in(\n",
    "                        wp._balances['b'],\n",
    "                        wp._weights['b'],\n",
    "                        wp._balances['a'],\n",
    "                        wp._weights['a'],\n",
    "                        Decimal(x[0]) #Num\n",
    "                    ),\n",
    "                    wp._weights['a']))-Decimal(cex_price) #Denom\n",
    "    ]\n",
    "amount = Decimal(fsolve(func, [1.0])[0])\n",
    "print(amount)"
   ]
  },
  {
   "cell_type": "code",
   "execution_count": null,
   "id": "2eb7989a",
   "metadata": {},
   "outputs": [],
   "source": [
    "WeightedMath.calc_out_given_in(\n",
    "                        wp._balances['b'],\n",
    "                        wp._weights['b'],\n",
    "                        wp._balances['a'],\n",
    "                        wp._weights['a'],\n",
    "                        Decimal(1000))"
   ]
  },
  {
   "cell_type": "code",
   "execution_count": null,
   "id": "8c45a98b",
   "metadata": {},
   "outputs": [],
   "source": [
    "def func(x):\n",
    "    return [\n",
    "            divDown(divDown(wp._balances['b']+Decimal(x[0]), wp._weights['b']), divDown(wp._balances['a']-WeightedMath.calc_out_given_in(wp._balances['b'],wp._weights['b'],wp._balances['a'],wp._weights['a'],Decimal(x[0])), wp._weights['a']))-Decimal(cex_price)\n",
    "    ]\n",
    "fsolve(func, [1.0])"
   ]
  },
  {
   "cell_type": "code",
   "execution_count": null,
   "id": "af8679ed",
   "metadata": {},
   "outputs": [],
   "source": [
    "wp.swap('b', 'a', amount, given_in=True)"
   ]
  },
  {
   "cell_type": "code",
   "execution_count": null,
   "id": "d3e1cb46",
   "metadata": {},
   "outputs": [],
   "source": [
    "num =(wp._balances['b']-wp.factory_fees['b']) / wp._weights['b']\n",
    "denom = wp._balances['a'] / wp._weights['a']\n",
    "num/denom"
   ]
  },
  {
   "cell_type": "code",
   "execution_count": null,
   "id": "29b94d91",
   "metadata": {},
   "outputs": [],
   "source": [
    "wp.factory_fees"
   ]
  },
  {
   "cell_type": "code",
   "execution_count": null,
   "id": "230dcf45",
   "metadata": {},
   "outputs": [],
   "source": []
  },
  {
   "cell_type": "code",
   "execution_count": null,
   "id": "606301ad",
   "metadata": {},
   "outputs": [],
   "source": [
    "def calcArbOp(wp, cex_price, cex_trade_fee, cex_trade_slippage):\n",
    "    \n",
    "    num =wp._balances['b'] / wp._weights['b']\n",
    "    denom = wp._balances['a'] / wp._weights['a']\n",
    "    current_pool_price = num/denom\n",
    "    \n",
    "    # Buying ETH from the pool. Selling on cex.\n",
    "    if current_pool_price < cex_price:\n",
    "        effective_cex_price = (1-cex_trade_fee-cex_trade_slippage)*cex_price\n",
    "        trade_vol_min = Decimal(0)\n",
    "        trade_vol_max = wp._balances['b']\n",
    "        test_amount_in = (trade_vol_min+trade_vol_max)/2\n",
    "        \n",
    "        i = 0\n",
    "        while i < 10:\n",
    "            amount_out = WeightedMath.calc_out_given_in(wp._balances['b'],wp._weights['b'],wp._balances['a'],wp._weights['a'],test_amount_in)\n",
    "            \n",
    "            num =(wp._balances['b']+test_amount_in) / wp._weights['b']\n",
    "            denom = (wp._balances['a']-amount_out) / wp._weights['a']\n",
    "            new_pool_price = num/denom\n",
    "            print(test_amount_in, new_pool_price)\n",
    "            i += 1"
   ]
  },
  {
   "cell_type": "code",
   "execution_count": null,
   "id": "55ccbea3",
   "metadata": {},
   "outputs": [],
   "source": [
    "from decimal import *\n",
    "from BalancerV2cad.WeightedPool import WeightedPool\n",
    "from BalancerV2cad.WeightedMath import WeightedMath\n",
    "\n",
    "from BalancerV2cad.util import *\n",
    "from BalancerV2cad.BalancerConstants import *\n",
    "\n",
    "wp = WeightedPool()\n",
    "wp._swap_fee = Decimal(0.003)\n",
    "wp.join_pool({'a':100,'b':100*150},{'a':0.5,'b':0.5})\n",
    "\n",
    "print(wp._balances['a'], wp._balances['b'], wp.factory_fees)\n"
   ]
  },
  {
   "cell_type": "code",
   "execution_count": null,
   "id": "cd2cad21",
   "metadata": {
    "scrolled": true
   },
   "outputs": [],
   "source": [
    "calcArbOp(wp, 155, 0.001, 0.001)"
   ]
  },
  {
   "cell_type": "code",
   "execution_count": null,
   "id": "b26f0203",
   "metadata": {},
   "outputs": [],
   "source": []
  },
  {
   "cell_type": "code",
   "execution_count": null,
   "id": "0e737219",
   "metadata": {},
   "outputs": [],
   "source": []
  },
  {
   "cell_type": "code",
   "execution_count": null,
   "id": "6a03c25e",
   "metadata": {},
   "outputs": [],
   "source": []
  },
  {
   "cell_type": "code",
   "execution_count": null,
   "id": "c3a18b66",
   "metadata": {},
   "outputs": [],
   "source": []
  },
  {
   "cell_type": "markdown",
   "id": "b397400c",
   "metadata": {},
   "source": [
    "## Attempt #2"
   ]
  },
  {
   "cell_type": "code",
   "execution_count": null,
   "id": "5a088ab7",
   "metadata": {},
   "outputs": [],
   "source": [
    "def calcArbOp(wp, cex_price, cex_trade_fee, cex_trade_slippage):\n",
    "    num =wp._balances['b'] / wp._weights['b']\n",
    "    denom = wp._balances['a'] / wp._weights['a']\n",
    "    current_pool_price = num/denom\n",
    "    \n",
    "    # Buying ETH from the pool. Selling on cex.\n",
    "    if current_pool_price < cex_price:\n",
    "        effective_cex_price = (1-cex_trade_fee-cex_trade_slippage)*cex_price\n",
    "        \n",
    "        def func(x):\n",
    "            return [\n",
    "                    divDown(\n",
    "                        divDown(\n",
    "                            wp._balances['b']+mulDown( #Num\n",
    "                                Decimal(x[0]), 1+wp._swap_fee), #Num\n",
    "                            wp._weights['b'] #Denom\n",
    "                        ), \n",
    "                        divDown( #Denom\n",
    "                            wp._balances['a']-WeightedMath.calc_out_given_in(\n",
    "                                wp._balances['b'],\n",
    "                                wp._weights['b'],\n",
    "                                wp._balances['a'],\n",
    "                                wp._weights['a'],\n",
    "                                Decimal(x[0]) #Num\n",
    "                            ),\n",
    "                            wp._weights['a']))-Decimal(effective_cex_price) #Denom\n",
    "            ]\n",
    "        amountIn = Decimal(fsolve(func, [1.0])[0])\n",
    "        return {\n",
    "            'assetIn': 'b',\n",
    "            'assetOut': 'a',\n",
    "            'amountIn': amountIn\n",
    "        }\n",
    "    \n",
    "    # Buying ETH on cex. Selling to the pool.\n",
    "    elif current_pool_price > cex_price:\n",
    "        effective_cex_price = (1+cex_trade_fee+cex_trade_slippage)*cex_price\n",
    "        \n",
    "        def func(x):\n",
    "            return [\n",
    "                    divDown(\n",
    "                        divDown(\n",
    "                            wp._balances['b']-WeightedMath.calc_out_given_in(\n",
    "                                wp._balances['a'],\n",
    "                                wp._weights['a'],\n",
    "                                wp._balances['b'],\n",
    "                                wp._weights['b'],\n",
    "                                Decimal(x[0])\n",
    "                            ), #Num\n",
    "                            wp._weights['b'] #Denom\n",
    "                        ), \n",
    "                        divDown( #Denom\n",
    "                            wp._balances['a']+mulDown(\n",
    "                                Decimal(x[0]), 1+wp._swap_fee), #Num\n",
    "                            wp._weights['a']))-Decimal(effective_cex_price) #Denom\n",
    "            ]\n",
    "        amountIn = Decimal(fsolve(func, [1.0])[0])\n",
    "        return {\n",
    "            'assetIn': 'a',\n",
    "            'assetOut': 'b',\n",
    "            'amountIn': amountIn\n",
    "        }\n",
    "        \n",
    "        \n"
   ]
  },
  {
   "cell_type": "code",
   "execution_count": null,
   "id": "445bd9c5",
   "metadata": {},
   "outputs": [],
   "source": [
    "from decimal import *\n",
    "from BalancerV2cad.WeightedPool import WeightedPool\n",
    "from BalancerV2cad.WeightedMath import WeightedMath\n",
    "\n",
    "from BalancerV2cad.util import *\n",
    "from BalancerV2cad.BalancerConstants import *\n",
    "\n",
    "wp = WeightedPool()\n",
    "wp._swap_fee = Decimal(0.003)\n",
    "wp.join_pool({'a':100,'b':100*150},{'a':0.5,'b':0.5})\n",
    "\n",
    "print(wp._balances['a'], wp._balances['b'], wp.factory_fees)\n"
   ]
  },
  {
   "cell_type": "code",
   "execution_count": null,
   "id": "170b4880",
   "metadata": {},
   "outputs": [],
   "source": [
    "num =wp._balances['b'] / wp._weights['b']\n",
    "denom = wp._balances['a'] / wp._weights['a']\n",
    "current_pool_price = num/denom\n",
    "print(current_pool_price)\n",
    "print(wp._balances)\n",
    "print(calcArbOp(wp, 150, 0.001, 0.001))"
   ]
  },
  {
   "cell_type": "code",
   "execution_count": null,
   "id": "56440533",
   "metadata": {},
   "outputs": [],
   "source": [
    "trade = calcArbOp(wp, 155, 0.001, 0.001)\n",
    "print(trade)\n",
    "wp.swap(trade['assetIn'], trade['assetOut'], trade['amountIn'], given_in=True)\n",
    "\n",
    "num =wp._balances['b'] / wp._weights['b']\n",
    "denom = wp._balances['a'] / wp._weights['a']\n",
    "current_pool_price = num/denom\n",
    "print(current_pool_price)"
   ]
  },
  {
   "cell_type": "code",
   "execution_count": null,
   "id": "c0627566",
   "metadata": {},
   "outputs": [],
   "source": [
    "wp._balances"
   ]
  },
  {
   "cell_type": "code",
   "execution_count": null,
   "id": "d44a7b88",
   "metadata": {},
   "outputs": [],
   "source": [
    "wp.factory_fees"
   ]
  },
  {
   "cell_type": "code",
   "execution_count": null,
   "id": "685f7301",
   "metadata": {},
   "outputs": [],
   "source": []
  }
 ],
 "metadata": {
  "kernelspec": {
   "display_name": "Python (TE-BalancerV2)",
   "language": "python",
   "name": "python-balancerv2-simulation"
  },
  "language_info": {
   "codemirror_mode": {
    "name": "ipython",
    "version": 3
   },
   "file_extension": ".py",
   "mimetype": "text/x-python",
   "name": "python",
   "nbconvert_exporter": "python",
   "pygments_lexer": "ipython3",
   "version": "3.8.3"
  }
 },
 "nbformat": 4,
 "nbformat_minor": 5
}
