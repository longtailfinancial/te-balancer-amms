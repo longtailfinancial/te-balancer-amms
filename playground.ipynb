{
 "cells": [
  {
   "cell_type": "code",
   "execution_count": 3,
   "id": "polyphonic-prior",
   "metadata": {},
   "outputs": [],
   "source": [
    "import pandas as pd \n",
    "from cadCAD.configuration.utils import config_sim"
   ]
  },
  {
   "cell_type": "markdown",
   "id": "transsexual-penalty",
   "metadata": {},
   "source": [
    "### Initialize pool"
   ]
  },
  {
   "cell_type": "code",
   "execution_count": 4,
   "id": "crucial-drain",
   "metadata": {},
   "outputs": [],
   "source": [
    "from decimal import *\n",
    "from BalancerV2cad.WeightedPool import WeightedPool"
   ]
  },
  {
   "cell_type": "code",
   "execution_count": 5,
   "id": "negative-russell",
   "metadata": {},
   "outputs": [],
   "source": [
    "wp = WeightedPool()\n",
    "\n",
    "wp.join_pool({'a':100,'b':100},{'a':0.5,'b':0.5})"
   ]
  },
  {
   "cell_type": "code",
   "execution_count": null,
   "id": "legal-wonder",
   "metadata": {},
   "outputs": [],
   "source": []
  },
  {
   "cell_type": "code",
   "execution_count": null,
   "id": "alpine-garbage",
   "metadata": {},
   "outputs": [],
   "source": []
  }
 ],
 "metadata": {
  "kernelspec": {
   "display_name": "Python 3",
   "language": "python",
   "name": "python3"
  },
  "language_info": {
   "codemirror_mode": {
    "name": "ipython",
    "version": 3
   },
   "file_extension": ".py",
   "mimetype": "text/x-python",
   "name": "python",
   "nbconvert_exporter": "python",
   "pygments_lexer": "ipython3",
   "version": "3.8.3"
  }
 },
 "nbformat": 4,
 "nbformat_minor": 5
}
