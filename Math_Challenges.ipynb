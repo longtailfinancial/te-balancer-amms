{
 "cells": [
  {
   "cell_type": "markdown",
   "id": "secondary-crawford",
   "metadata": {},
   "source": [
    "# Balancer Simulations Math Challenge - Basic Exercises"
   ]
  },
  {
   "cell_type": "markdown",
   "id": "civic-community",
   "metadata": {},
   "source": [
    "This is a series of exercises to gain intuition for the core algorithm in Balancer Pools: the Value Function, and invariant V."
   ]
  },
  {
   "cell_type": "markdown",
   "id": "supreme-corpus",
   "metadata": {},
   "source": [
    "**Exercise:** We'll work on Step 1 questions in our working session on May 25 in teams of 2, facilitated by Octopus and Angela.  \n",
    "**Challenges:** Step 2 will be homework assignments, we'll offer a range challenges, XXX"
   ]
  },
  {
   "cell_type": "markdown",
   "id": "another-array",
   "metadata": {},
   "source": [
    "## Exercise:   \n",
    "Let's set up a pool.  \n",
    "\n",
    "We have 100 Token A and 100 Token B, with equal weights.  \n",
    "The price definition in our pool is constraint by the\n",
    "Invariant V in Balancer Pools. \n",
    "\n",
    "a_bal = balance of token A  \n",
    "b_bal = balance of token B  \n",
    "a_weight = weight of token A  \n",
    "b_weight = weight of token B   \n",
    "\n",
    "The weights in this pool are equal for both tokens.\n",
    "For now, we don't have a swap fee."
   ]
  },
  {
   "cell_type": "markdown",
   "id": "toxic-agency",
   "metadata": {},
   "source": [
    "# Q1.1: \n",
    "What's the initial spot price of token A in token B?"
   ]
  },
  {
   "cell_type": "code",
   "execution_count": null,
   "id": "executed-binding",
   "metadata": {},
   "outputs": [],
   "source": [
    "a_bal = 100\n",
    "b_bal = 100\n",
    "\n",
    "a_weight = 0.5\n",
    "b_weight = 0.5"
   ]
  },
  {
   "cell_type": "code",
   "execution_count": null,
   "id": "handmade-parish",
   "metadata": {
    "scrolled": true
   },
   "outputs": [],
   "source": [
    "spot_price = (a_bal/a_weight)/(b_bal/b_weight)\n",
    "print(spot_price)"
   ]
  },
  {
   "cell_type": "markdown",
   "id": "proud-pointer",
   "metadata": {},
   "source": [
    "# Q1.2:\n",
    "Now let's assume a series of 99 swaps. With every swap, **1.0 token A is bought from the pool, against token B**.  \n",
    "\n",
    "**a) Create a table \"buy_A\"** with\n",
    "\n",
    "    the token A balances (swap by swap)\n",
    "    the token B balances (swap by swap) - that are constraint by the value function. \n",
    "\n",
    "**b) What do you notice in general?**\n",
    "Write down your findings (in words).\n",
    "\n",
    "**c) How much would Alice have to pay in token B when buying the first 1.0 token A?**\n",
    "Write down your findings (in words). Compare with the initial Spotprice."
   ]
  },
  {
   "cell_type": "code",
   "execution_count": null,
   "id": "undefined-robinson",
   "metadata": {},
   "outputs": [],
   "source": [
    "import pandas as pd"
   ]
  },
  {
   "cell_type": "code",
   "execution_count": null,
   "id": "supposed-buddy",
   "metadata": {},
   "outputs": [],
   "source": [
    "a_bal = 100\n",
    "b_bal = 100\n",
    "\n",
    "a_weight = 0.5\n",
    "b_weight = 0.5"
   ]
  },
  {
   "cell_type": "code",
   "execution_count": null,
   "id": "serial-niger",
   "metadata": {},
   "outputs": [],
   "source": [
    "a = [100 - i for i in range(100)]\n",
    "b = [100 * 100 / i for i in a]\n",
    "\n",
    "pool = {\n",
    "    'a': a,\n",
    "    'b': b\n",
    "}"
   ]
  },
  {
   "cell_type": "code",
   "execution_count": null,
   "id": "adverse-greeting",
   "metadata": {
    "scrolled": false
   },
   "outputs": [],
   "source": [
    "pool_df = pd.DataFrame.from_dict(pool)\n",
    "pool_df"
   ]
  },
  {
   "cell_type": "code",
   "execution_count": null,
   "id": "sharing-candy",
   "metadata": {
    "scrolled": true
   },
   "outputs": [],
   "source": [
    "a_bal = 100\n",
    "b_bal = 100\n",
    "a_weight = 0.5\n",
    "b_weight = 0.5\n",
    "s_f = 0.0 #swap fee\n",
    "\n",
    "inv = (a_bal**a_weight)*(b_bal**b_weight) #calculate invariant\n",
    "a_vals = pd.Series(range(100,0,-1)) #create df with based on a_vals\n",
    "\n",
    "buy_A = pd.DataFrame(a_vals, columns=['token_A'])\n",
    "buy_A['invariant'] = inv #value required to calculate token B value\n",
    "\n",
    "#create values for plot, add Y_balances according to current invariant\n",
    "buy_A['token_B'] = (buy_A.invariant/(buy_A.token_A**a_weight))**(1/b_weight)\n",
    "\n",
    "buy_A.head(10)"
   ]
  },
  {
   "cell_type": "code",
   "execution_count": null,
   "id": "proper-outline",
   "metadata": {},
   "outputs": [],
   "source": [
    "import matplotlib.pyplot as plt\n",
    "from matplotlib.pyplot import figure\n",
    "\n",
    "%matplotlib inline"
   ]
  },
  {
   "cell_type": "code",
   "execution_count": null,
   "id": "periodic-owner",
   "metadata": {},
   "outputs": [],
   "source": [
    "plt.plot(buy_A.head(60)['token_A'], buy_A.head(60)['token_B'])\n",
    "plt.xlabel(\"token_A\")\n",
    "plt.ylabel(\"token_B\")\n",
    "plt.show()"
   ]
  },
  {
   "cell_type": "markdown",
   "id": "micro-consistency",
   "metadata": {},
   "source": [
    "## Curve-ball Question #1\n",
    "Which transaction(s) ends up cheaper?\n",
    "* Purchasing 99 token_A's in 99 seperate even transactions.\n",
    "* Purchasing 99 token_A's in a single transaction."
   ]
  },
  {
   "cell_type": "code",
   "execution_count": null,
   "id": "removable-condition",
   "metadata": {},
   "outputs": [],
   "source": [
    "# Purchasing 99 tokens in 99 seperate even transactions:\n",
    "seperate_total_cost = buy_A[buy_A['token_A'] == 1].iloc[0]['token_B'] - buy_A[buy_A['token_A'] == 100].iloc[0]['token_B']\n",
    "print(seperate_total_cost)"
   ]
  },
  {
   "cell_type": "code",
   "execution_count": null,
   "id": "noble-delay",
   "metadata": {},
   "outputs": [],
   "source": [
    "# Purchasing 99 tokens in 1 transaction:\n",
    "bulk_total_cost = 100*((100/(100-99))**(0.5/0.5)-1)\n",
    "print(bulk_total_cost)"
   ]
  },
  {
   "cell_type": "markdown",
   "id": "tired-salvation",
   "metadata": {},
   "source": [
    "It appears that both paths appear equivalent in terms of price of exchange."
   ]
  },
  {
   "cell_type": "markdown",
   "id": "adaptive-registrar",
   "metadata": {},
   "source": [
    "## Curve-ball Question #2\n",
    "What about if we factor in pool fees > 0% where fees get immediately added to the pool asset balance(s)?"
   ]
  },
  {
   "cell_type": "markdown",
   "id": "primary-missile",
   "metadata": {},
   "source": [
    "Assumptions:\n",
    "* A 0.30% swap fee\n",
    "* Invariant value changes post-swap with the addition of swap fee(s).\n",
    "* Taking the calc_given_in function outlined in [balancer_math.py](https://token-engineering-balancer.gitbook.io/balancer-simulations/additional-code-and-instructions/balancer-the-python-edition/balancer_math.py)"
   ]
  },
  {
   "cell_type": "code",
   "execution_count": null,
   "id": "contained-western",
   "metadata": {},
   "outputs": [],
   "source": [
    "swap_fee = 0.003"
   ]
  },
  {
   "cell_type": "code",
   "execution_count": null,
   "id": "photographic-component",
   "metadata": {
    "scrolled": false
   },
   "outputs": [],
   "source": [
    "# Purchasing 99 tokens in 99 seperate even transactions:\n",
    "a_bal = 100\n",
    "b_bal = 100\n",
    "a_weight = 0.5\n",
    "b_weight = 0.5\n",
    "s_f = 0.003 #swap fee\n",
    "\n",
    "inv = (a_bal**a_weight)*(b_bal**b_weight) #calculate invariant\n",
    "a_vals = pd.Series(range(100,0,-1)) #create df with based on a_vals\n",
    "\n",
    "buy_A_with_fees = pd.DataFrame(a_vals, columns=['token_A'])\n",
    "\n",
    "token_B_list = [100]\n",
    "inv_list = [inv]\n",
    "for a_bal in buy_A['token_A']:\n",
    "    # skip a_bal=b_bal=100 and \n",
    "    if a_bal == 100: continue\n",
    "    \n",
    "    a_bal = a_bal+1\n",
    "    b_bal = token_B_list[-1]\n",
    "    \n",
    "    amount_in_B = b_bal*((a_bal/(a_bal-1))**(a_weight/b_weight)-1)*(1/(1-s_f))\n",
    "    new_b_bal = token_B_list[-1]+amount_in_B\n",
    "    \n",
    "    token_B_list.append(new_b_bal)\n",
    "    \n",
    "    inv = ((a_bal-1)**a_weight)*(new_b_bal**b_weight) #calculate invariant\n",
    "    # inv = 100\n",
    "    inv_list.append(inv)\n",
    "\n",
    "buy_A_with_fees['invariant'] = inv_list\n",
    "buy_A_with_fees['token_B'] = token_B_list\n",
    "print(buy_A_with_fees)"
   ]
  },
  {
   "cell_type": "code",
   "execution_count": null,
   "id": "great-civilian",
   "metadata": {},
   "outputs": [],
   "source": [
    "# Result\n",
    "seperate_total_cost = buy_A_with_fees[buy_A_with_fees['token_A'] == 1].iloc[0]['token_B'] - buy_A_with_fees[buy_A_with_fees['token_A'] == 100].iloc[0]['token_B']\n",
    "print(seperate_total_cost)"
   ]
  },
  {
   "cell_type": "code",
   "execution_count": null,
   "id": "broke-sender",
   "metadata": {
    "scrolled": true
   },
   "outputs": [],
   "source": [
    "# Purchasing 99 tokens in 1 transactions:\n",
    "bulk_total_cost = 100*((100/(100-99))**(0.5/0.5)-1)*(1/(1-swap_fee))\n",
    "print(bulk_total_cost)"
   ]
  },
  {
   "cell_type": "code",
   "execution_count": null,
   "id": "gothic-passing",
   "metadata": {},
   "outputs": [],
   "source": [
    "# Difference\n",
    "print(\"Difference seperate/bulk: \"+str(seperate_total_cost-bulk_total_cost))\n",
    "print(\"Ratio seperate/bulk: \"+str(seperate_total_cost/bulk_total_cost))"
   ]
  },
  {
   "cell_type": "code",
   "execution_count": null,
   "id": "assumed-casting",
   "metadata": {
    "scrolled": true
   },
   "outputs": [],
   "source": [
    "# Test:\n",
    "bulk_total_cost = 100*((100/(100-1))**(0.5/0.5)-1)*(1/(1-swap_fee))\n",
    "print(bulk_total_cost)"
   ]
  },
  {
   "cell_type": "code",
   "execution_count": null,
   "id": "noticed-glossary",
   "metadata": {
    "scrolled": false
   },
   "outputs": [],
   "source": [
    "from matplotlib.legend_handler import HandlerLine2D\n",
    "\n",
    "plt.figure(figsize=(12, 12))\n",
    "line1, = plt.plot(buy_A['token_A'], buy_A['token_B'], color='green', label=\"no fees\")\n",
    "line2, = plt.plot(buy_A_with_fees['token_A'], buy_A_with_fees['token_B'], color='blue', label=\"with fees\")\n",
    "\n",
    "plt.legend(handler_map={line1: HandlerLine2D(numpoints=4)})\n",
    "\n",
    "plt.xlabel(\"token_A\")\n",
    "plt.ylabel(\"token_B\")\n",
    "\n",
    "\n",
    "plt.show()"
   ]
  },
  {
   "cell_type": "markdown",
   "id": "boxed-contrary",
   "metadata": {},
   "source": [
    "# Q1.3:\n",
    "\n",
    "Now let's assume a series of 99 swaps in the opposite direction. We start again with the original state: We have 100 Token A and 100 Token B.   \n",
    "With every swap, **1.0 token B is bought from the pool, against token A**.\n",
    "\n",
    "Create a table **'buy_B'** with\n",
    "\n",
    "    the token A balances (swap by swap)\n",
    "    the token B balances (swap by swap) - that are constraint by the value function."
   ]
  },
  {
   "cell_type": "code",
   "execution_count": null,
   "id": "together-atlanta",
   "metadata": {
    "scrolled": false
   },
   "outputs": [],
   "source": [
    "a_bal = 100\n",
    "b_bal = 100\n",
    "a_weight = 0.5\n",
    "b_weight = 0.5\n",
    "s_f = 0.0 #swap fee\n",
    "\n",
    "inv = (a_bal**a_weight)*(b_bal**b_weight) #calculate invariant\n",
    "b_vals = pd.Series(range(100,0,-1)) #create df with based on b_vals\n",
    "\n",
    "buy_B = pd.DataFrame(b_vals, columns=['token_B'])\n",
    "buy_B['invariant'] = inv #value required to calculate token A value\n",
    "\n",
    "#create values for plot, add Y_balances according to current invariant\n",
    "buy_B['token_A'] = (buy_B.invariant/(buy_B.token_B**b_weight))**(1/a_weight)\n",
    "\n",
    "buy_B.tail(10)"
   ]
  },
  {
   "cell_type": "code",
   "execution_count": null,
   "id": "aging-animation",
   "metadata": {},
   "outputs": [],
   "source": []
  },
  {
   "cell_type": "markdown",
   "id": "biological-belize",
   "metadata": {},
   "source": [
    "# Q1.4:\n",
    "What is the new price of token A in token B after 90 swaps token A for B?"
   ]
  },
  {
   "cell_type": "code",
   "execution_count": null,
   "id": "accessory-effect",
   "metadata": {
    "scrolled": true
   },
   "outputs": [],
   "source": [
    "# Where balance of token_B = 100 - 90 = 10:\n",
    "buy_B.loc[buy_B['token_B']<= 10]"
   ]
  },
  {
   "cell_type": "code",
   "execution_count": null,
   "id": "killing-camcorder",
   "metadata": {},
   "outputs": [],
   "source": [
    "# Spot Price\n",
    "spot_price = buy_B.loc[buy_B['token_B']== 10]['token_A'] / buy_B.loc[buy_B['token_B']== 10]['token_B']\n",
    "print(spot_price)"
   ]
  },
  {
   "cell_type": "markdown",
   "id": "legitimate-wallace",
   "metadata": {},
   "source": [
    "# Q1.5:  \n",
    "Now create a graph (use plotly or similar), and draw the full curve for this series of both kinds of swaps - the AMM curve."
   ]
  },
  {
   "cell_type": "code",
   "execution_count": null,
   "id": "extra-customer",
   "metadata": {},
   "outputs": [],
   "source": [
    "buy_A.head(5)"
   ]
  },
  {
   "cell_type": "code",
   "execution_count": null,
   "id": "south-disposition",
   "metadata": {
    "scrolled": true
   },
   "outputs": [],
   "source": [
    "buy_B.head(5)"
   ]
  },
  {
   "cell_type": "code",
   "execution_count": null,
   "id": "biblical-welsh",
   "metadata": {},
   "outputs": [],
   "source": [
    "combined = pd.concat([buy_A,buy_B[buy_B['token_B'] < 100]])"
   ]
  },
  {
   "cell_type": "code",
   "execution_count": null,
   "id": "fabulous-harris",
   "metadata": {
    "scrolled": false
   },
   "outputs": [],
   "source": [
    "combined = combined.sort_values(by=['token_B'])"
   ]
  },
  {
   "cell_type": "code",
   "execution_count": null,
   "id": "excess-fashion",
   "metadata": {},
   "outputs": [],
   "source": [
    "combined_p = combined[(combined['token_A'] <= 500) & (combined['token_B'] <= 500)]"
   ]
  },
  {
   "cell_type": "code",
   "execution_count": null,
   "id": "previous-space",
   "metadata": {},
   "outputs": [],
   "source": [
    "combined_p"
   ]
  },
  {
   "cell_type": "code",
   "execution_count": null,
   "id": "sitting-compression",
   "metadata": {},
   "outputs": [],
   "source": [
    "import matplotlib.pyplot as plt\n",
    "from matplotlib.pyplot import figure\n",
    "\n",
    "%matplotlib inline"
   ]
  },
  {
   "cell_type": "code",
   "execution_count": null,
   "id": "published-print",
   "metadata": {},
   "outputs": [],
   "source": [
    "plt.figure(figsize=(6, 6))\n",
    "plt.plot(combined_p['token_A'], combined_p['token_B'])\n",
    "plt.xlabel(\"token_A\")\n",
    "plt.ylabel(\"token_B\")\n",
    "\n",
    "\n",
    "plt.show()"
   ]
  },
  {
   "cell_type": "markdown",
   "id": "cardiovascular-touch",
   "metadata": {},
   "source": [
    "# Q1.6:\n",
    "Take this plot, and mark \n",
    "- the initial price in Q1.1 (starting price)\n",
    "- the new price in Q1.4 (after 90 swaps)"
   ]
  },
  {
   "cell_type": "code",
   "execution_count": null,
   "id": "approximate-agriculture",
   "metadata": {},
   "outputs": [],
   "source": [
    "# Initial price where balance of token_A = 100:\n",
    "print(combined.loc[combined['token_B']== 100])\n",
    "print(\"Spot price at this point: \" + str(1))\n",
    "\n",
    "# Where balance of token_B = 100 - 90 = 10:\n",
    "print(combined.loc[combined['token_B']== 10])\n",
    "print(\"Spot price at this point: \" + str(100))"
   ]
  },
  {
   "cell_type": "markdown",
   "id": "seven-trademark",
   "metadata": {},
   "source": [
    "# Q1.7:\n",
    "Formulate a \"rule of a thumb\", how do swaps effect the price?"
   ]
  },
  {
   "cell_type": "markdown",
   "id": "national-zoning",
   "metadata": {},
   "source": [
    "### As the proportion of tokens in the pool get more and more offset, the more drastic the 'slippage' for making a unit trade in the pool becomes."
   ]
  },
  {
   "cell_type": "code",
   "execution_count": null,
   "id": "veterinary-boxing",
   "metadata": {},
   "outputs": [],
   "source": [
    "combined['spot_price_a'] = combined['token_B'] / combined['token_A']\n",
    "\n",
    "combined_p = combined[(combined['token_A'] <= 500) & (combined['token_B'] <= 500)]\n",
    "\n",
    "plt.figure(figsize=(6, 6))\n",
    "plt.plot(combined_p['token_A'], combined_p['spot_price_a'])\n",
    "plt.xlabel(\"token_A\")\n",
    "plt.ylabel(\"spot_price_a\")\n",
    "\n",
    "\n",
    "plt.show()"
   ]
  },
  {
   "cell_type": "markdown",
   "id": "thick-spare",
   "metadata": {},
   "source": [
    "# Now, let's consider weights!"
   ]
  },
  {
   "cell_type": "markdown",
   "id": "coated-serial",
   "metadata": {},
   "source": [
    "We continue with the value function $V = a^w_a*b^w_b  $\n",
    "where  \n",
    "$a$ = balance of token asset A  \n",
    "$b$ = balancer of token asset B  \n",
    "$w_a$ = weight of token asset A  \n",
    "$w_b$ = weight of token asset B  "
   ]
  },
  {
   "cell_type": "markdown",
   "id": "willing-tracker",
   "metadata": {},
   "source": [
    "# Q2.1:  \n",
    "Write down the value function for the pool in Q1.1!"
   ]
  },
  {
   "cell_type": "code",
   "execution_count": null,
   "id": "protecting-footwear",
   "metadata": {},
   "outputs": [],
   "source": [
    "a_bal = 100\n",
    "b_bal = 100\n",
    "\n",
    "a_weight = 0.5\n",
    "b_weight = 0.5"
   ]
  },
  {
   "cell_type": "code",
   "execution_count": null,
   "id": "macro-kenya",
   "metadata": {},
   "outputs": [],
   "source": [
    "V = (a_bal**a_weight)*(b_bal**b_weight)\n",
    "print(V)"
   ]
  },
  {
   "cell_type": "markdown",
   "id": "rocky-flower",
   "metadata": {},
   "source": [
    "# Q2.2:\n",
    "Let's got back to your initial balances in Step 1 in the pool:  \n",
    "100 tokens A  \n",
    "100 tokens B  \n",
    "\n",
    "How do you need to change the weights in order to land at a **price of  \n",
    "4 tokens A : 1 token B**"
   ]
  },
  {
   "cell_type": "markdown",
   "id": "armed-words",
   "metadata": {},
   "source": [
    "\n",
    "$ SP = \\frac{\\frac{B_i}{W_i}}{\\frac{B_o}{W_o}} $\n",
    "\n",
    "Where we know $ SP = 4, B_i = 100, B_o = 100 $\n",
    "\n",
    "We solve for $ W_i $ and $ W_o $\n",
    "\n",
    "$W_i+W_o=1$\n",
    "\n",
    "$4=(\\frac{W_o}{W_i})$\n",
    "\n",
    "$W_o = 4*W_i$\n",
    "\n",
    "$W_o+W_i = 1$\n",
    "\n",
    "$W_o=1-W_i$\n",
    "\n",
    "$ 1-W_i = 4*W_i$\n",
    "\n",
    "$5*W_i = 1$\n",
    "\n",
    "Therefore,\n",
    "\n",
    "$W_i = 0.2$\n",
    "\n",
    "$W_o = 0.8$\n",
    "\n",
    "\n"
   ]
  },
  {
   "cell_type": "code",
   "execution_count": null,
   "id": "israeli-clothing",
   "metadata": {},
   "outputs": [],
   "source": [
    "a_weight = 0.2\n",
    "b_weight = 0.8\n",
    "\n",
    "spot_price = (a_bal/a_weight)/(b_bal/b_weight)\n",
    "print(spot_price)"
   ]
  },
  {
   "cell_type": "markdown",
   "id": "insured-stanley",
   "metadata": {},
   "source": [
    "Provide the new value function!"
   ]
  },
  {
   "cell_type": "code",
   "execution_count": null,
   "id": "special-montreal",
   "metadata": {},
   "outputs": [],
   "source": [
    "V = (a_bal**a_weight)*(b_bal**b_weight)\n",
    "print(V)"
   ]
  },
  {
   "cell_type": "markdown",
   "id": "contrary-modem",
   "metadata": {},
   "source": [
    "# Q2.3:\n",
    "Create a graph showing the new AMM Curve in Q2.2  \n",
    "Compare to the graph in Q1.4 - how does a change in weights change the graph?"
   ]
  },
  {
   "cell_type": "code",
   "execution_count": null,
   "id": "searching-defensive",
   "metadata": {
    "scrolled": true
   },
   "outputs": [],
   "source": [
    "a_bal = 100\n",
    "b_bal = 100\n",
    "a_weight = 0.2\n",
    "b_weight = 0.8\n",
    "s_f = 0.0 #swap fee\n",
    "\n",
    "inv = (a_bal**a_weight)*(b_bal**b_weight) #calculate invariant\n",
    "a_vals = pd.Series(range(100,0,-1)) #create df with based on a_vals\n",
    "\n",
    "buy_A = pd.DataFrame(a_vals, columns=['token_A'])\n",
    "buy_A['invariant'] = inv #value required to calculate token B value\n",
    "\n",
    "#create values for plot, add Y_balances according to current invariant\n",
    "buy_A['token_B'] = (buy_A.invariant/(buy_A.token_A**a_weight))**(1/b_weight)"
   ]
  },
  {
   "cell_type": "code",
   "execution_count": null,
   "id": "decreased-tuner",
   "metadata": {},
   "outputs": [],
   "source": [
    "a_bal = 100\n",
    "b_bal = 100\n",
    "a_weight = 0.2\n",
    "b_weight = 0.8\n",
    "s_f = 0.0 #swap fee\n",
    "\n",
    "inv = (a_bal**a_weight)*(b_bal**b_weight) #calculate invariant\n",
    "b_vals = pd.Series(range(100,0,-1)) #create df with based on b_vals\n",
    "\n",
    "buy_B = pd.DataFrame(b_vals, columns=['token_B'])\n",
    "buy_B['invariant'] = inv #value required to calculate token A value\n",
    "\n",
    "#create values for plot, add Y_balances according to current invariant\n",
    "buy_B['token_A'] = (buy_B.invariant/(buy_B.token_B**b_weight))**(1/a_weight)"
   ]
  },
  {
   "cell_type": "code",
   "execution_count": null,
   "id": "correct-blind",
   "metadata": {},
   "outputs": [],
   "source": [
    "w_combined = pd.concat([buy_A,buy_B[buy_B['token_B'] < 100]])"
   ]
  },
  {
   "cell_type": "code",
   "execution_count": null,
   "id": "crucial-premium",
   "metadata": {},
   "outputs": [],
   "source": [
    "w_combined = w_combined.sort_values(by=['token_B'])"
   ]
  },
  {
   "cell_type": "code",
   "execution_count": null,
   "id": "premium-tribute",
   "metadata": {},
   "outputs": [],
   "source": [
    "w_combined_p = w_combined[(w_combined['token_A'] <= 500) & (w_combined['token_B'] <= 500)]"
   ]
  },
  {
   "cell_type": "code",
   "execution_count": null,
   "id": "wired-turner",
   "metadata": {},
   "outputs": [],
   "source": [
    "from matplotlib.legend_handler import HandlerLine2D\n",
    "\n",
    "plt.figure(figsize=(6, 6))\n",
    "line1, = plt.plot(w_combined_p['token_A'], w_combined_p['token_B'], color='green', label=\"20:80\")\n",
    "line2, = plt.plot(combined_p['token_A'], combined_p['token_B'], color='blue', label=\"50:50\")\n",
    "\n",
    "plt.legend(handler_map={line1: HandlerLine2D(numpoints=4)})\n",
    "\n",
    "plt.xlabel(\"token_A\")\n",
    "plt.ylabel(\"token_B\")\n",
    "\n",
    "\n",
    "plt.show()"
   ]
  },
  {
   "cell_type": "markdown",
   "id": "conditional-acrylic",
   "metadata": {},
   "source": [
    "# Q2.4:\n",
    "Compare token prices in this pool.  \n",
    "How much would Alice have to pay in case there are only 2 tokens left in the pool  \n",
    "    **a) buy 1.0 token A for token B**  \n",
    "    **b) buy 1.0 token B for token A**   "
   ]
  },
  {
   "cell_type": "code",
   "execution_count": null,
   "id": "animated-remainder",
   "metadata": {},
   "outputs": [],
   "source": [
    "w_combined_p[(w_combined_p['token_A'] >= 1.0) & (w_combined_p['token_A'] <= 3.0)]"
   ]
  },
  {
   "cell_type": "code",
   "execution_count": null,
   "id": "pregnant-visiting",
   "metadata": {},
   "outputs": [],
   "source": [
    "# Spot Price\n",
    "inst_a_bal = 2.0\n",
    "inst_b_bal = buy_A.loc[buy_A['token_A']== 2]['token_B']\n",
    "a_spot_price = inst_b_bal / inst_a_bal\n",
    "\n",
    "inst_b_bal_after_trade = (inv/((inst_a_bal - 1)**a_weight))**(1/b_weight)\n",
    "a_effective_price = (inst_b_bal_after_trade - inst_b_bal)\n",
    "print(a_spot_price)\n",
    "print(a_effective_price)"
   ]
  }
 ],
 "metadata": {
  "kernelspec": {
   "display_name": "Python 3 (ipykernel)",
   "language": "python",
   "name": "python3"
  },
  "language_info": {
   "codemirror_mode": {
    "name": "ipython",
    "version": 3
   },
   "file_extension": ".py",
   "mimetype": "text/x-python",
   "name": "python",
   "nbconvert_exporter": "python",
   "pygments_lexer": "ipython3",
   "version": "3.8.3"
  }
 },
 "nbformat": 4,
 "nbformat_minor": 5
}
