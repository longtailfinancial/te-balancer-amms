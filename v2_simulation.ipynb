{
 "cells": [
  {
   "cell_type": "code",
   "execution_count": null,
   "id": "breathing-bennett",
   "metadata": {},
   "outputs": [],
   "source": [
    "# cadCAD standard dependencies\n",
    "\n",
    "# cadCAD configuration modules\n",
    "from cadCAD.configuration.utils import config_sim\n",
    "from cadCAD.configuration import Experiment\n",
    "\n",
    "# cadCAD simulation engine modules\n",
    "from cadCAD.engine import ExecutionMode, ExecutionContext\n",
    "from cadCAD.engine import Executor\n",
    "\n",
    "# cadCAD global simulation configuration list\n",
    "from cadCAD import configs\n",
    "\n",
    "# Included with cadCAD\n",
    "import pandas as pd\n",
    "\n",
    "# Additional dependencies\n",
    "\n",
    "# For analytics\n",
    "import numpy as np\n",
    "# For visualization\n",
    "import plotly.express as px\n",
    "\n",
    "# For using the balancer pool model\n",
    "from BalancerV2cad.WeightedPool import WeightedPool\n",
    "from BalancerV2cad.WeightedMath import WeightedMath\n",
    "\n",
    "from BalancerV2cad.util import *\n",
    "from BalancerV2cad.BalancerConstants import *\n",
    "\n",
    "\n",
    "from decimal import Decimal"
   ]
  },
  {
   "cell_type": "code",
   "execution_count": null,
   "id": "confirmed-camcorder",
   "metadata": {},
   "outputs": [],
   "source": [
    "# Additional dependencies\n",
    "\n",
    "# For parsing the data from the API\n",
    "import json\n",
    "# For downloading data from API\n",
    "import requests as req\n",
    "# For generating random numbers\n",
    "import math\n",
    "# For visualization\n",
    "import plotly.express as px\n",
    "# For Google BigQuery authentication\n",
    "from google.oauth2 import service_account\n",
    "\n",
    "import random"
   ]
  },
  {
   "cell_type": "markdown",
   "id": "54a21ac8",
   "metadata": {},
   "source": [
    "## Helper Functions"
   ]
  },
  {
   "cell_type": "code",
   "execution_count": null,
   "id": "entertaining-output",
   "metadata": {},
   "outputs": [],
   "source": [
    "# Helper function for changing pool weight(s)\n",
    "def changePoolWeights(wp, new_weights):\n",
    "    new_pool = WeightedPool()\n",
    "    balances = wp._balances\n",
    "    new_pool.join_pool(balances,new_weights)\n",
    "    new_pool.factory_fees = wp.factory_fees\n",
    "    return new_pool"
   ]
  },
  {
   "cell_type": "code",
   "execution_count": null,
   "id": "ccf2b06e",
   "metadata": {},
   "outputs": [],
   "source": [
    "# Assuming adjacent CEXs with 'infinite' depth with `cex_trade_slippage` slippage,\n",
    "# calculates the profitability of performing an arbitrage between the Balancer pool\n",
    "# and the equivalent market on the CEX.\n",
    "def calcArbOp(wp, cex_price, cex_trade_fee, cex_trade_slippage):\n",
    "    num =wp._balances['b'] / wp._weights['b']\n",
    "    denom = wp._balances['a'] / wp._weights['a']\n",
    "    current_pool_price = num/denom\n",
    "    \n",
    "    # Buying ETH from the pool. Selling on cex.\n",
    "    if current_pool_price < cex_price:\n",
    "        effective_cex_price = (1-cex_trade_fee-cex_trade_slippage)*cex_price\n",
    "        \n",
    "        def func(x):\n",
    "            return [\n",
    "                    divDown(\n",
    "                        divDown(\n",
    "                            wp._balances['b']+mulDown( #Num\n",
    "                                Decimal(x[0]), 1+wp._swap_fee), #Num\n",
    "                            wp._weights['b'] #Denom\n",
    "                        ), \n",
    "                        divDown( #Denom\n",
    "                            wp._balances['a']-WeightedMath.calc_out_given_in(\n",
    "                                wp._balances['b'],\n",
    "                                wp._weights['b'],\n",
    "                                wp._balances['a'],\n",
    "                                wp._weights['a'],\n",
    "                                Decimal(x[0]) #Num\n",
    "                            ),\n",
    "                            wp._weights['a']))-Decimal(effective_cex_price) #Denom\n",
    "            ]\n",
    "        amountIn = Decimal(fsolve(func, [1.0])[0])\n",
    "        return {\n",
    "            'assetIn': 'b',\n",
    "            'assetOut': 'a',\n",
    "            'amountIn': amountIn\n",
    "        }\n",
    "    \n",
    "    # Buying ETH on cex. Selling to the pool.\n",
    "    elif current_pool_price > cex_price:\n",
    "        effective_cex_price = (1+cex_trade_fee+cex_trade_slippage)*cex_price\n",
    "        \n",
    "        def func(x):\n",
    "            return [\n",
    "                    divDown(\n",
    "                        divDown(\n",
    "                            wp._balances['b']-WeightedMath.calc_out_given_in(\n",
    "                                wp._balances['a'],\n",
    "                                wp._weights['a'],\n",
    "                                wp._balances['b'],\n",
    "                                wp._weights['b'],\n",
    "                                Decimal(x[0])\n",
    "                            ), #Num\n",
    "                            wp._weights['b'] #Denom\n",
    "                        ), \n",
    "                        divDown( #Denom\n",
    "                            wp._balances['a']+mulDown(\n",
    "                                Decimal(x[0]), 1+wp._swap_fee), #Num\n",
    "                            wp._weights['a']))-Decimal(effective_cex_price) #Denom\n",
    "            ]\n",
    "        amountIn = Decimal(fsolve(func, [1.0])[0])\n",
    "        return {\n",
    "            'assetIn': 'a',\n",
    "            'assetOut': 'b',\n",
    "            'amountIn': amountIn\n",
    "        }"
   ]
  },
  {
   "cell_type": "markdown",
   "id": "eastern-nepal",
   "metadata": {},
   "source": [
    "## Setup / Preperation Steps\n",
    "\n",
    "### Acquire the 1M price history from Binance"
   ]
  },
  {
   "cell_type": "code",
   "execution_count": null,
   "id": "executive-calgary",
   "metadata": {},
   "outputs": [],
   "source": [
    "ETHUSDT_1M = pd.read_csv(\"./data/Binance_ETHUSDT_minute.csv\")"
   ]
  },
  {
   "cell_type": "markdown",
   "id": "registered-water",
   "metadata": {},
   "source": [
    "## Data Wrangling the Data"
   ]
  },
  {
   "cell_type": "code",
   "execution_count": null,
   "id": "romance-blake",
   "metadata": {},
   "outputs": [],
   "source": [
    "ETHUSDT_1M['Date'] = pd.to_datetime(ETHUSDT_1M['date'], format='%Y-%m-%d %H:%M:%S')\n",
    "ETHUSDT_1M = ETHUSDT_1M.sort_values(by='date', ascending=True)\n",
    "\n",
    "ETHUSDT_1M = ETHUSDT_1M.reset_index(drop=True)\n",
    "ETHUSDT_1M.set_index('Date', inplace=True)\n",
    "ETHUSDT_1M.drop(['date'], axis = 1, inplace=True)\n",
    "\n",
    "# Truncate off all data from prior to June 2021.\n",
    "ts = \"2021-06-15 00:00:00\"\n",
    "ETHUSDT_1M = ETHUSDT_1M[ETHUSDT_1M.index.date >= pd.to_datetime(ts, format='%Y-%m-%d %H:%M:%S')]\n",
    "\n",
    "# Add a timestep column\n",
    "ETHUSDT_1M['timestep'] = np.arange(ETHUSDT_1M.shape[0])"
   ]
  },
  {
   "cell_type": "code",
   "execution_count": null,
   "id": "interested-cheese",
   "metadata": {
    "scrolled": true
   },
   "outputs": [],
   "source": [
    "print(ETHUSDT_1M.tail(5))"
   ]
  },
  {
   "cell_type": "code",
   "execution_count": null,
   "id": "accepted-agriculture",
   "metadata": {},
   "outputs": [],
   "source": [
    "ETHUSDT_1M[ETHUSDT_1M['timestep'] == 0]"
   ]
  },
  {
   "cell_type": "code",
   "execution_count": null,
   "id": "balanced-dietary",
   "metadata": {},
   "outputs": [],
   "source": [
    "px.line(ETHUSDT_1M,\n",
    "        x=ETHUSDT_1M.index,\n",
    "        y='close')"
   ]
  },
  {
   "cell_type": "markdown",
   "id": "electrical-gabriel",
   "metadata": {},
   "source": [
    "## State Variables"
   ]
  },
  {
   "cell_type": "markdown",
   "id": "several-subscriber",
   "metadata": {},
   "source": [
    "## 1. State Variables"
   ]
  },
  {
   "cell_type": "code",
   "execution_count": null,
   "id": "parliamentary-baseline",
   "metadata": {
    "scrolled": false
   },
   "outputs": [],
   "source": [
    "initial_price = ETHUSDT_1M.iloc[0]['open']\n",
    "print(initial_price)"
   ]
  },
  {
   "cell_type": "code",
   "execution_count": null,
   "id": "fatal-sacrifice",
   "metadata": {},
   "outputs": [],
   "source": [
    "wp = WeightedPool()\n",
    "wp._swap_fee = Decimal(0.003)\n",
    "wp.join_pool({'a':1000,'b':1000*initial_price},{'a':0.5,'b':0.5})\n",
    "\n",
    "#print(wp.swap('b', 'a', 1, given_in=False))\n",
    "print(wp._balances['a'], wp._balances['b'], wp.factory_fees)"
   ]
  },
  {
   "cell_type": "code",
   "execution_count": null,
   "id": "disturbed-missouri",
   "metadata": {
    "scrolled": true
   },
   "outputs": [],
   "source": [
    "initial_state = {\n",
    "    'weighted_pool': wp,\n",
    "    'swap_fee': wp._swap_fee,\n",
    "    'external_price': Decimal(initial_price),\n",
    "}\n",
    "initial_state"
   ]
  },
  {
   "cell_type": "markdown",
   "id": "neither-sender",
   "metadata": {},
   "source": [
    "## 2. System Parameters"
   ]
  },
  {
   "cell_type": "code",
   "execution_count": null,
   "id": "nuclear-grass",
   "metadata": {},
   "outputs": [],
   "source": [
    "system_params = {\n",
    "    'weights_update_freq': [-1, 30, 10, 5, 1],\n",
    "#    'weights_update_freq': [-1, 1],\n",
    "#     'gas_cost': [Decimal(10)] # USD denom\n",
    "}"
   ]
  },
  {
   "cell_type": "markdown",
   "id": "palestinian-verification",
   "metadata": {},
   "source": [
    "## 3. Policy Functions"
   ]
  },
  {
   "cell_type": "code",
   "execution_count": null,
   "id": "harmful-probability",
   "metadata": {},
   "outputs": [],
   "source": [
    "def p_price_update(params, substep, state_history, previous_state):\n",
    "    \"\"\"\n",
    "    Calculate cumulative transaction fees & swaps\n",
    "    from a swap event\n",
    "    \"\"\"\n",
    "    t = previous_state['timestep']\n",
    "    \n",
    "    ts_data = ETHUSDT_1M.iloc[t]\n",
    "    \n",
    "    timestamp = ts_data.name\n",
    "    price = ts_data.open\n",
    "    \n",
    "    return {\n",
    "        'timestamp': timestamp,\n",
    "        'binance_price': price,\n",
    "    }"
   ]
  },
  {
   "cell_type": "markdown",
   "id": "controlling-conclusion",
   "metadata": {},
   "source": [
    "## 4. State Update Functions"
   ]
  },
  {
   "cell_type": "code",
   "execution_count": null,
   "id": "modular-watts",
   "metadata": {},
   "outputs": [],
   "source": [
    "def s_timestamp(params,\n",
    "                   substep,\n",
    "                   state_history,\n",
    "                   previous_state,\n",
    "                   policy_input):\n",
    "    value = policy_input['timestamp']\n",
    "    return ('timestamp', value)\n",
    "\n",
    "def s_external_price(params,\n",
    "                   substep,\n",
    "                   state_history,\n",
    "                   previous_state,\n",
    "                   policy_input):\n",
    "    value = Decimal(policy_input['binance_price'])\n",
    "    return ('external_price', value)\n",
    "\n",
    "# def s_standard_gas_price(params,\n",
    "#                    substep,\n",
    "#                    state_history,\n",
    "#                    previous_state,\n",
    "#                    policy_input):\n",
    "#     return None"
   ]
  },
  {
   "cell_type": "code",
   "execution_count": null,
   "id": "identified-honduras",
   "metadata": {},
   "outputs": [],
   "source": [
    "# Arbitrager re-balancing the pool.\n",
    "def s_primal_arbitrage_rebalance(params,\n",
    "                   substep,\n",
    "                   state_history,\n",
    "                   previous_state,\n",
    "                   policy_input):\n",
    "    num = previous_state['weighted_pool']._balances['b'] / previous_state['weighted_pool']._weights['b']\n",
    "    denom = previous_state['weighted_pool']._balances['a'] / previous_state['weighted_pool']._weights['a']\n",
    "    current_pool_price = num/denom\n",
    "    \n",
    "    # Sell 1 ETH to the pool\n",
    "    if (policy_input['binance_price'] < Decimal(0.99) * current_pool_price):\n",
    "        previous_state['weighted_pool'].swap('a', 'b', 1, given_in=True)\n",
    "    \n",
    "    # Buy 1 ETH from the pool\n",
    "    elif (policy_input['binance_price'] > Decimal(1.01) * current_pool_price):\n",
    "        previous_state['weighted_pool'].swap('b', 'a', 1, given_in=False)\n",
    "        \n",
    "    variable = 'weighted_pool'\n",
    "    return (variable, previous_state['weighted_pool'])"
   ]
  },
  {
   "cell_type": "code",
   "execution_count": null,
   "id": "011c9fae",
   "metadata": {},
   "outputs": [],
   "source": [
    "# Arbitrager re-balancing the pool.\n",
    "# This agent will perform a pool swap if the profitablility margin exceeds a min. req.\n",
    "# Parameterize this profitability margin.\n",
    "def s_sophisticated_arbitrage_rebalance(params,\n",
    "                   substep,\n",
    "                   state_history,\n",
    "                   previous_state,\n",
    "                   policy_input):\n",
    "    trade = calcArbOp(previous_state['weighted_pool'], policy_input['binance_price'], 0.001, 0.001)\n",
    "    if trade:\n",
    "        if trade['amountIn'] > 0:\n",
    "            previous_state['weighted_pool'].swap(trade['assetIn'], trade['assetOut'], trade['amountIn'], given_in=True)\n",
    "        \n",
    "    variable = 'weighted_pool'\n",
    "    return (variable, previous_state['weighted_pool'])\n",
    "    "
   ]
  },
  {
   "cell_type": "code",
   "execution_count": null,
   "id": "unexpected-carolina",
   "metadata": {},
   "outputs": [],
   "source": [
    "# Pool Operator changing the pool weights.\n",
    "# Open-loop primal variant\n",
    "# Naive assumption of zero gas fees\n",
    "\n",
    "from scipy.optimize import fsolve\n",
    "import numpy as np\n",
    "\n",
    "# Stop when difference between weight-adjusted price is within 0.05% of new_price (< 0.0005x)\n",
    "def find_optimal_weights(a_bal, a_weight, b_bal, b_weight, new_price):\n",
    "    def func(x):\n",
    "        return [x[0] + x[1] - 1,\n",
    "            b_bal*x[0] - new_price*a_bal*x[1]]\n",
    "    root = fsolve(func, [a_weight, b_weight])\n",
    "    return root\n",
    "\n",
    "def s_dynamic_weights_adjustment(params,\n",
    "                   substep,\n",
    "                   state_history,\n",
    "                   previous_state,\n",
    "                   policy_input):\n",
    "    \n",
    "    num = previous_state['weighted_pool']._balances['b'] / previous_state['weighted_pool']._weights['b']\n",
    "    denom = previous_state['weighted_pool']._balances['a'] / previous_state['weighted_pool']._weights['a']\n",
    "    current_pool_price = num/denom\n",
    "\n",
    "    if params['weights_update_freq'] != -1 and (previous_state['timestep']+1) % params['weights_update_freq'] == 0:\n",
    "    #if params['weights_update_freq'] != -1 and abs((previous_state['external_price']-current_pool_price)/current_pool_price) >= 0.00:\n",
    "\n",
    "        a_bal = np.float64(previous_state['weighted_pool']._balances['a'])\n",
    "        b_bal = np.float64(previous_state['weighted_pool']._balances['b'])\n",
    "        a_weight = np.float64(previous_state['weighted_pool']._weights['a'])\n",
    "        b_weight = np.float64(previous_state['weighted_pool']._weights['b'])\n",
    "        new_price = np.float64(previous_state['external_price'])\n",
    "        \n",
    "        \n",
    "#         res = random.randint(0,1)\n",
    "#         if res: adj=-1*new_price*0.002\n",
    "#         else: adj=-1*new_price*0.002\n",
    "        new_a_weight, new_b_weight = find_optimal_weights(a_bal, a_weight, b_bal, b_weight, new_price)\n",
    "\n",
    "        previous_state['weighted_pool'] = changePoolWeights(previous_state['weighted_pool'], {'a': new_a_weight, 'b': new_b_weight})\n",
    "\n",
    "    variable = 'weighted_pool'\n",
    "    return (variable, previous_state['weighted_pool'])"
   ]
  },
  {
   "cell_type": "code",
   "execution_count": null,
   "id": "informed-prison",
   "metadata": {},
   "outputs": [],
   "source": [
    "# Update last after any pool adjustments performed by agent(s)\n",
    "# def s_pool_price(params,\n",
    "#                    substep,\n",
    "#                    state_history,\n",
    "#                    previous_state,\n",
    "#                    policy_input):\n",
    "#     variable = 'a_price'\n",
    "#     num = previous_state['weighted_pool']._balances['b'] / previous_state['weighted_pool']._weights['b']\n",
    "#     denom = previous_state['weighted_pool']._balances['a'] / previous_state['weighted_pool']._weights['a']\n",
    "#     value = Decimal(num/denom)\n",
    "#     return (variable, value)"
   ]
  },
  {
   "cell_type": "markdown",
   "id": "fifty-meter",
   "metadata": {},
   "source": [
    "## 5. Partial State Update Block"
   ]
  },
  {
   "cell_type": "code",
   "execution_count": null,
   "id": "palestinian-stereo",
   "metadata": {},
   "outputs": [],
   "source": [
    "partial_state_update_blocks = [\n",
    "    {\n",
    "        'label': 'Price Update & Arbitrage rebalance',\n",
    "        'policies': {\n",
    "            'policy_price_update': p_price_update\n",
    "        },\n",
    "        'variables': {\n",
    "            'timestamp': s_timestamp,\n",
    "            'external_price': s_external_price,\n",
    "            'weighted_pool': s_sophisticated_arbitrage_rebalance,\n",
    "        }\n",
    "    },\n",
    "    {\n",
    "        'label': 'Dynamic Weights Adjustment',\n",
    "        'policies': {\n",
    "            \n",
    "        },\n",
    "        'variables': {\n",
    "            'weighted_pool': s_dynamic_weights_adjustment,\n",
    "        }\n",
    "    }\n",
    "]"
   ]
  },
  {
   "cell_type": "markdown",
   "id": "chief-animation",
   "metadata": {},
   "source": [
    "# Simulation"
   ]
  },
  {
   "cell_type": "markdown",
   "id": "neither-photograph",
   "metadata": {},
   "source": [
    "## 6. Configuration"
   ]
  },
  {
   "cell_type": "code",
   "execution_count": null,
   "id": "proper-cookbook",
   "metadata": {},
   "outputs": [],
   "source": [
    "sim_config = config_sim({\n",
    "    'N': 1,\n",
    "    'T': range(ETHUSDT_1M.shape[0]),\n",
    "    'M': system_params\n",
    "})"
   ]
  },
  {
   "cell_type": "code",
   "execution_count": null,
   "id": "current-optimum",
   "metadata": {},
   "outputs": [],
   "source": [
    "del configs[:] # Clear any prior configs"
   ]
  },
  {
   "cell_type": "code",
   "execution_count": null,
   "id": "democratic-irrigation",
   "metadata": {},
   "outputs": [],
   "source": [
    "experiment = Experiment()\n",
    "experiment.append_configs(\n",
    "    initial_state = initial_state,\n",
    "    partial_state_update_blocks = partial_state_update_blocks,\n",
    "    sim_configs = sim_config\n",
    ")"
   ]
  },
  {
   "cell_type": "markdown",
   "id": "interested-harris",
   "metadata": {},
   "source": [
    "## 7. Execution"
   ]
  },
  {
   "cell_type": "code",
   "execution_count": null,
   "id": "adaptive-stereo",
   "metadata": {},
   "outputs": [],
   "source": [
    "exec_context = ExecutionContext()\n",
    "simulation = Executor(exec_context=exec_context, configs=configs)\n",
    "raw_result, tensor_field, sessions = simulation.execute()"
   ]
  },
  {
   "cell_type": "markdown",
   "id": "aware-arrangement",
   "metadata": {},
   "source": [
    "## 8. Output Preperation"
   ]
  },
  {
   "cell_type": "code",
   "execution_count": null,
   "id": "sorted-valentine",
   "metadata": {},
   "outputs": [],
   "source": [
    "simulation_result = pd.DataFrame(raw_result)"
   ]
  },
  {
   "cell_type": "code",
   "execution_count": null,
   "id": "optional-orientation",
   "metadata": {
    "scrolled": false
   },
   "outputs": [],
   "source": [
    "df = simulation_result.copy()\n",
    "df = df[df.simulation == 0]"
   ]
  },
  {
   "cell_type": "code",
   "execution_count": null,
   "id": "printable-maintenance",
   "metadata": {},
   "outputs": [],
   "source": [
    "get_a_balance = lambda x: x._balances['a']\n",
    "get_b_balance = lambda x: x._balances['b']\n",
    "get_a_weight = lambda x: x._weights['a']\n",
    "get_b_weight = lambda x: x._weights['b']\n",
    "get_a_ffees = lambda x: x.factory_fees['a']\n",
    "get_b_ffees = lambda x: x.factory_fees['b']\n",
    "\n",
    "df['a_balance'] = df['weighted_pool'].apply(get_a_balance)\n",
    "df['b_balance'] = df['weighted_pool'].apply(get_b_balance)\n",
    "df['a_weight'] = df['weighted_pool'].apply(get_a_weight)\n",
    "df['b_weight'] = df['weighted_pool'].apply(get_b_weight)\n",
    "df['a_price'] = (df['b_balance']/df['b_weight'])/(df['a_balance']/df['a_weight'])\n",
    "df['a_ffees'] = df['weighted_pool'].apply(get_a_ffees)\n",
    "df['b_ffees'] = df['weighted_pool'].apply(get_b_ffees)\n",
    "df['cumsum_fees'] = df['a_ffees'] * df['external_price'] + df['b_ffees']\n",
    "\n",
    "initial_tvl = initial_state['weighted_pool']._balances['a'] * initial_state['external_price'] + initial_state['weighted_pool']._balances['b']\n",
    "df['tvl'] = df['a_balance'] * df['external_price'] + df['b_balance']\n",
    "df['tvl_perc_dif'] = (df['tvl'] - initial_tvl) / initial_tvl\n",
    "\n",
    "df['initial_pos_value'] = initial_state['weighted_pool']._balances['a'] * df['external_price'] + initial_state['weighted_pool']._balances['b']\n",
    "df['il'] = ((df['tvl'] - df['cumsum_fees']) - df['initial_pos_value'])\n",
    "df['il_perc_dif'] = df['il'] / df['initial_pos_value']\n",
    "\n",
    "# Sanity check: ((df['initial_pos_value'] - df['tvl']) + df['il']) + df['cumsum_fees'] ~= 0"
   ]
  },
  {
   "cell_type": "code",
   "execution_count": null,
   "id": "3613c3b2",
   "metadata": {},
   "outputs": [],
   "source": [
    "df[df['subset']==0]"
   ]
  },
  {
   "cell_type": "code",
   "execution_count": null,
   "id": "funky-exercise",
   "metadata": {},
   "outputs": [],
   "source": [
    "px.line(df, x='timestamp', y='il', facet_row='subset', title='Imperm Loss')"
   ]
  },
  {
   "cell_type": "code",
   "execution_count": null,
   "id": "competent-eleven",
   "metadata": {},
   "outputs": [],
   "source": [
    "px.line(df, x='timestamp', y=['tvl', 'initial_pos_value'], facet_row='subset')"
   ]
  },
  {
   "cell_type": "code",
   "execution_count": null,
   "id": "recovered-transport",
   "metadata": {
    "scrolled": false
   },
   "outputs": [],
   "source": [
    "px.line(df, x='timestamp', y=['a_price', 'external_price'], facet_row='subset')"
   ]
  },
  {
   "cell_type": "code",
   "execution_count": null,
   "id": "forced-butterfly",
   "metadata": {},
   "outputs": [],
   "source": [
    "px.line(df, x='timestamp', y=['a_weight', 'b_weight'], facet_row='subset')"
   ]
  },
  {
   "cell_type": "code",
   "execution_count": null,
   "id": "cutting-civilization",
   "metadata": {},
   "outputs": [],
   "source": [
    "px.line(df, x='timestamp', y=['il_perc_dif'],)"
   ]
  },
  {
   "cell_type": "code",
   "execution_count": null,
   "id": "e6e639a6",
   "metadata": {},
   "outputs": [],
   "source": [
    "import plotly.graph_objects as go\n",
    "\n",
    "fig = go.Figure()\n",
    "\n",
    "fig.add_trace(go.Scatter(\n",
    "    x=df[df['subset']==0].timestamp,\n",
    "    y=df[df['subset']==0].il_perc_dif,\n",
    "    name=\"N/A\"\n",
    "))\n",
    "\n",
    "fig.add_trace(go.Scatter(\n",
    "    x=df[df['subset']==0].timestamp,\n",
    "    y=df[df['subset']==1].il_perc_dif,\n",
    "    name=\"Every 30 mins\"\n",
    "))\n",
    "\n",
    "fig.add_trace(go.Scatter(\n",
    "    x=df[df['subset']==0].timestamp,\n",
    "    y=df[df['subset']==2].il_perc_dif,\n",
    "    name=\"Every 10 mins\"\n",
    "))\n",
    "\n",
    "fig.add_trace(go.Scatter(\n",
    "    x=df[df['subset']==0].timestamp,\n",
    "    y=df[df['subset']==3].il_perc_dif,\n",
    "    name=\"Every 5 mins\"\n",
    "))\n",
    "\n",
    "fig.add_trace(go.Scatter(\n",
    "    x=df[df['subset']==0].timestamp,\n",
    "    y=df[df['subset']==4].il_perc_dif,\n",
    "    name=\"Every 1 min\"\n",
    "))\n",
    "\n",
    "\n",
    "fig.show()"
   ]
  },
  {
   "cell_type": "code",
   "execution_count": null,
   "id": "d4466f4e",
   "metadata": {},
   "outputs": [],
   "source": [
    "df[df['subset']==0].timestamp"
   ]
  },
  {
   "cell_type": "code",
   "execution_count": null,
   "id": "12a595eb",
   "metadata": {},
   "outputs": [],
   "source": []
  }
 ],
 "metadata": {
  "kernelspec": {
   "display_name": "Python (TE-BalancerV2)",
   "language": "python",
   "name": "python-balancerv2-simulation"
  },
  "language_info": {
   "codemirror_mode": {
    "name": "ipython",
    "version": 3
   },
   "file_extension": ".py",
   "mimetype": "text/x-python",
   "name": "python",
   "nbconvert_exporter": "python",
   "pygments_lexer": "ipython3",
   "version": "3.8.3"
  }
 },
 "nbformat": 4,
 "nbformat_minor": 5
}
