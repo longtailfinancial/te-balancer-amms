{
 "cells": [
  {
   "cell_type": "code",
   "execution_count": 1,
   "metadata": {},
   "outputs": [],
   "source": [
    "from decimal import *\n",
    "from BalancerV2cad.WeightedPool import WeightedPool"
   ]
  },
  {
   "cell_type": "markdown",
   "metadata": {},
   "source": [
    "#### Creating and joining a new pool\n",
    "Instantiating a new balancer pool and bootstrapping the first amount of liquidity:\n",
    "- 2 tokens:- [a, b]\n",
    "- Equal weights:- 50/50\n",
    "- Equal balance:- 100 units ea."
   ]
  },
  {
   "cell_type": "code",
   "execution_count": 2,
   "metadata": {},
   "outputs": [],
   "source": [
    "wp = WeightedPool()\n",
    "\n",
    "wp.join_pool({'a':100,'b':100},{'a':0.5,'b':0.5})"
   ]
  },
  {
   "cell_type": "code",
   "execution_count": 3,
   "metadata": {},
   "outputs": [
    {
     "name": "stdout",
     "output_type": "stream",
     "text": [
      "{'a': Decimal('100'), 'b': Decimal('100')}\n",
      "{'a': Decimal('0'), 'b': Decimal('0')}\n"
     ]
    }
   ],
   "source": [
    "print(wp._balances)\n",
    "print(wp.factory_fees)"
   ]
  },
  {
   "cell_type": "markdown",
   "metadata": {},
   "source": [
    "#### Setting a swap fee\n",
    "Changing the swap fee for the pool to 0.30%"
   ]
  },
  {
   "cell_type": "code",
   "execution_count": 4,
   "metadata": {},
   "outputs": [],
   "source": [
    "wp.swap_fee = 0.003"
   ]
  },
  {
   "cell_type": "markdown",
   "metadata": {},
   "source": [
    "#### Performing a pool swap\n",
    "Performing a 'calc_in_given_out' swap:\n",
    "\n",
    "Here, we'll exchange 'some' calculated qty of asset b for 1 unit of a.\n",
    "\n",
    "Read more on this in the [docs](https://metavision.gitbook.io/balancerv2-py-twin/simulation-packages/pool-functions)"
   ]
  },
  {
   "cell_type": "code",
   "execution_count": 5,
   "metadata": {
    "scrolled": true
   },
   "outputs": [
    {
     "name": "stdout",
     "output_type": "stream",
     "text": [
      "Balance of 'a': 99. Balance of 'b': 101.0101020202020202020202022\n"
     ]
    }
   ],
   "source": [
    "wp.swap('b', 'a', 1, given_in=False)\n",
    "print(\"Balance of 'a': {}. Balance of 'b': {}\".format(wp._balances['a'], wp._balances['b']))"
   ]
  },
  {
   "cell_type": "markdown",
   "metadata": {},
   "source": [
    "To perform a 'calc_out_given_in' swap:\n",
    "\n",
    "Here we'll set given_in to True to exchange 1 unit of asset b for 'some' calculated qty of asset a."
   ]
  },
  {
   "cell_type": "code",
   "execution_count": 6,
   "metadata": {
    "scrolled": false
   },
   "outputs": [
    {
     "name": "stdout",
     "output_type": "stream",
     "text": [
      "Balance of 'a': 98.02950884265380594570508793. Balance of 'b': 102.0101020202020202020202022\n"
     ]
    }
   ],
   "source": [
    "wp.swap('b', 'a', 1, given_in=True)\n",
    "print(\"Balance of 'a': {}. Balance of 'b': {}\".format(wp._balances['a'], wp._balances['b']))"
   ]
  },
  {
   "cell_type": "markdown",
   "metadata": {},
   "source": [
    "#### Exiting a pool\n",
    "\n",
    "I'm unsure whether this feature is functional or not.\n",
    "\n",
    "Getting TypeError: unsupported operand type(s) for -: 'dict' and 'dict'\n",
    "\n",
    "Method likely requires revision to work"
   ]
  },
  {
   "cell_type": "code",
   "execution_count": 7,
   "metadata": {},
   "outputs": [],
   "source": [
    "# proportion = Decimal(0.8)\n",
    "# print('balance',proportion*wp._balances['a'])\n",
    "# print(\"Pool balance(s) prior to exit:\")\n",
    "# print(\"Balance of 'a': {}. Balance of 'b': {}\".format(wp._balances['a'], wp._balances['b']))\n",
    "# wp.exit_pool(\n",
    "#     {\n",
    "#         'a': proportion*wp._balances['a'],\n",
    "#         'b': proportion*wp._balances['b']\n",
    "#     })\n",
    "\n",
    "# print(\"Pool balance(s) after exit:\")\n",
    "# print(\"Balance of 'a': {}. Balance of 'b': {}\".format(wp._balances['a'], wp._balances['b']))"
   ]
  },
  {
   "cell_type": "markdown",
   "metadata": {},
   "source": [
    "#### Changing weights of the pool\n",
    "Currently there doesn't seem to be a feature in the library for supporting weight-changing on the fly.\n",
    "\n",
    "Possible work-arounds include:\n",
    "- Performing a complete exit of the pool, before re-entering with the same balances but different weights.\n",
    "- Instantiating a new pool and 'entering' with the same balances but different weights.\n",
    "\n",
    "We will implement the former below as a new function that returns a new WeightedPool instance:"
   ]
  },
  {
   "cell_type": "code",
   "execution_count": 8,
   "metadata": {},
   "outputs": [],
   "source": [
    "def changePoolWeights(wp, new_weights):\n",
    "    new_pool = WeightedPool()\n",
    "    balances = wp._balances\n",
    "    new_pool.join_pool(balances,new_weights)\n",
    "    return new_pool\n",
    "\n",
    "updated_wp = changePoolWeights(wp, {'a': 0.2, 'b': 0.8})"
   ]
  },
  {
   "cell_type": "markdown",
   "metadata": {},
   "source": [
    "# Math Challenge"
   ]
  },
  {
   "cell_type": "markdown",
   "metadata": {},
   "source": [
    "## Curve-ball Question #1\n",
    "Which transaction(s) ends up cheaper? When there are NO fees\n",
    "* Purchasing 99 token_A's in 99 seperate even transactions.\n",
    "* Purchasing 99 token_A's in a single transaction."
   ]
  },
  {
   "cell_type": "code",
   "execution_count": 9,
   "metadata": {},
   "outputs": [
    {
     "name": "stdout",
     "output_type": "stream",
     "text": [
      "[Decimal('1'), Decimal('10000.00000000000000000000068')]\n"
     ]
    }
   ],
   "source": [
    "# 99 individual swaps\n",
    "wp = WeightedPool()\n",
    "wp._swap_fee = 0\n",
    "\n",
    "wp.join_pool({'a':100,'b':100},{'a':0.5,'b':0.5})\n",
    "\n",
    "balances = [[wp._balances['a'], wp._balances['b']]]\n",
    "\n",
    "for i in range(99):\n",
    "    wp.swap('b', 'a', 1, given_in=False)\n",
    "    balances.append([wp._balances['a'], wp._balances['b']])\n",
    "    \n",
    "print(balances[-1])"
   ]
  },
  {
   "cell_type": "code",
   "execution_count": 10,
   "metadata": {},
   "outputs": [
    {
     "name": "stdout",
     "output_type": "stream",
     "text": [
      "1 10000\n"
     ]
    }
   ],
   "source": [
    "# 1 individual swap\n",
    "wp = WeightedPool()\n",
    "wp._swap_fee = 0\n",
    "\n",
    "wp.join_pool({'a':100,'b':100},{'a':0.5,'b':0.5})\n",
    "\n",
    "wp.swap('b', 'a', 99, given_in=False)\n",
    "print(wp._balances['a'], wp._balances['b'])"
   ]
  },
  {
   "cell_type": "markdown",
   "metadata": {},
   "source": [
    "### Conclusion\n",
    "Both transactions appear to end up with the same result of no difference"
   ]
  },
  {
   "cell_type": "markdown",
   "metadata": {},
   "source": [
    "## Curve-ball Question #2\n",
    "Which transaction(s) ends up cheaper? When there is a 0.3% swap fee\n",
    "* Purchasing 99 token_A's in 99 seperate even transactions.\n",
    "* Purchasing 99 token_A's in a single transaction."
   ]
  },
  {
   "cell_type": "code",
   "execution_count": 11,
   "metadata": {
    "scrolled": true
   },
   "outputs": [
    {
     "name": "stdout",
     "output_type": "stream",
     "text": [
      "100\t\t100\n",
      "99\t\t101.0131313131313131313762123\n",
      "98\t\t102.0469697897340754484892595\n",
      "97\t\t103.1021564979722535689140799\n",
      "96\t\t104.1793592372166928432480337\n",
      "95\t\t105.2792739457948859267036525\n",
      "94\t\t106.4026261986420377415021468\n",
      "93\t\t107.5501728016230911163556040\n",
      "92\t\t108.7227034898842645989253995\n",
      "91\t\t109.9210427382398021527661898\n",
      "90\t\t111.1460516923115190590560684\n",
      "89\t\t112.3986302299226252795411732\n",
      "88\t\t113.6797191631114024745684358\n",
      "87\t\t114.9903025920838247353625904\n",
      "86\t\t116.3314104234775465518364257\n",
      "85\t\t117.7041210664745816012335651\n",
      "84\t\t119.1095643215897483316310401\n",
      "83\t\t120.5489244783916099892703695\n",
      "82\t\t122.0234436399992537066699607\n",
      "81\t\t123.5344252939612197742676194\n",
      "80\t\t125.0832381510842585672839339\n",
      "79\t\t126.6713202759644802299522535\n",
      "78\t\t128.3001835354105363027542118\n",
      "77\t\t129.9714183936704943276850538\n",
      "76\t\t131.6866990864185404568795911\n",
      "75\t\t133.4477892088675777380325788\n",
      "74\t\t135.2565477571985801769458289\n",
      "73\t\t137.1149356667940620389447803\n",
      "72\t\t139.0250228955967626533006755\n",
      "71\t\t140.9889961063613197371026854\n",
      "70\t\t143.0091670077138969328900964\n",
      "69\t\t145.0879814208839989420584979\n",
      "68\t\t147.2280291468420379265871072\n",
      "67\t\t149.4320547175029717183716038\n",
      "66\t\t151.7029691248007820311421912\n",
      "65\t\t154.0438626329880925601684910\n",
      "64\t\t156.4580187926894528234101948\n",
      "63\t\t158.9489297902936991915316431\n",
      "62\t\t161.5203132835140956479676531\n",
      "61\t\t164.1761308937331880732954976\n",
      "60\t\t166.9206085485067612007583009\n",
      "59\t\t169.7582588938313761413478735\n",
      "58\t\t172.6939060260815980427336207\n",
      "57\t\t175.7327128286107180926923325\n",
      "56\t\t178.8802112387374422044413491\n",
      "55\t\t182.1423358182365995597545448\n",
      "54\t\t185.5254610557494015851213710\n",
      "53\t\t189.0364428942195270530734997\n",
      "52\t\t192.6826650523522613924203856\n",
      "51\t\t196.4720907983818558667072619\n",
      "50\t\t200.4133209397973958956388034\n",
      "49\t\t204.5156589174018201424927125\n",
      "48\t\t208.7891840401966956761529669\n",
      "47\t\t213.2448340740757868628810590\n",
      "46\t\t217.8944986083431349984633819\n",
      "45\t\t222.7511248773246497632870775\n",
      "44\t\t227.8288380194145730297981630\n",
      "43\t\t233.1430781248441734196380579\n",
      "42\t\t238.7107568714922378471251239\n",
      "41\t\t244.5504370944704503977488801\n",
      "40\t\t250.6825393046142969418542380\n",
      "39\t\t257.1295799949355312969397493\n",
      "38\t\t263.9164475932229086102789159\n",
      "37\t\t271.0707231860878431333219256\n",
      "36\t\t278.6230547237446794299788777\n",
      "35\t\t286.6075954062565626724265589\n",
      "34\t\t295.0625194707411312717895737\n",
      "33\t\t304.0306318049578995955481076\n",
      "32\t\t313.5600919205945487615894039\n",
      "31\t\t323.7052781204770110979589531\n",
      "30\t\t334.5278245856382925030078947\n",
      "29\t\t346.0978731394105410340909363\n",
      "28\t\t358.4955933807972829154769021\n",
      "27\t\t371.8130407941654190186847321\n",
      "26\t\t386.1564438678788003763370603\n",
      "25\t\t401.6490403958580978484003227\n",
      "24\t\t418.4346232090683341886931781\n",
      "23\t\t436.6820113429246619807536356\n",
      "22\t\t456.5907412236952727077521226\n",
      "21\t\t478.3983847211889088293897177\n",
      "20\t\t502.3900637149565326086774121\n",
      "19\t\t528.9109707626460800948815031\n",
      "18\t\t558.3830654112535255597813179\n",
      "17\t\t591.3276662705174835698596543\n",
      "16\t\t628.3965193498505483234532589\n",
      "15\t\t670.4152999437105549906310598\n",
      "14\t\t718.4457675039635326118789473\n",
      "13\t\t773.8766217198462574776159901\n",
      "12\t\t838.5598093519300738358141130\n",
      "11\t\t915.0212174228378796639677180\n",
      "10\t\t1006.797845530348518999977992\n",
      "9\t\t1118.999872093341803957739382\n",
      "8\t\t1259.294481057044532637676157\n",
      "7\t\t1439.733390271361056396852184\n",
      "6\t\t1680.408822011723579672844544\n",
      "5\t\t2017.498831707275329776205481\n",
      "4\t\t2523.386663757874618749087229\n",
      "3\t\t3367.038938340924033003393932\n",
      "2\t\t5055.608965918897435659731856\n",
      "1\t\t10126.38475873555156394216592\n"
     ]
    }
   ],
   "source": [
    "# 99 individual swaps\n",
    "wp = WeightedPool()\n",
    "wp._swap_fee = Decimal(0.003)\n",
    "\n",
    "wp.join_pool({'a':100,'b':100},{'a':0.5,'b':0.5})\n",
    "\n",
    "balances = [[wp._balances['a'], wp._balances['b']]]\n",
    "\n",
    "for i in range(99):\n",
    "    wp.swap('b', 'a', 1, given_in=False)\n",
    "    balances.append([wp._balances['a'], wp._balances['b']])\n",
    "    \n",
    "print(\"\\n\".join([\"{}\\t\\t{}\".format(i[0], i[1]) for i in balances]))"
   ]
  },
  {
   "cell_type": "code",
   "execution_count": 12,
   "metadata": {
    "scrolled": true
   },
   "outputs": [
    {
     "data": {
      "text/plain": [
       "[[Decimal('100'), Decimal('100')],\n",
       " [Decimal('99'), Decimal('101.0131313131313131313762123')],\n",
       " [Decimal('98'), Decimal('102.0469697897340754484892595')],\n",
       " [Decimal('97'), Decimal('103.1021564979722535689140799')],\n",
       " [Decimal('96'), Decimal('104.1793592372166928432480337')],\n",
       " [Decimal('95'), Decimal('105.2792739457948859267036525')],\n",
       " [Decimal('94'), Decimal('106.4026261986420377415021468')],\n",
       " [Decimal('93'), Decimal('107.5501728016230911163556040')],\n",
       " [Decimal('92'), Decimal('108.7227034898842645989253995')],\n",
       " [Decimal('91'), Decimal('109.9210427382398021527661898')],\n",
       " [Decimal('90'), Decimal('111.1460516923115190590560684')],\n",
       " [Decimal('89'), Decimal('112.3986302299226252795411732')],\n",
       " [Decimal('88'), Decimal('113.6797191631114024745684358')],\n",
       " [Decimal('87'), Decimal('114.9903025920838247353625904')],\n",
       " [Decimal('86'), Decimal('116.3314104234775465518364257')],\n",
       " [Decimal('85'), Decimal('117.7041210664745816012335651')],\n",
       " [Decimal('84'), Decimal('119.1095643215897483316310401')],\n",
       " [Decimal('83'), Decimal('120.5489244783916099892703695')],\n",
       " [Decimal('82'), Decimal('122.0234436399992537066699607')],\n",
       " [Decimal('81'), Decimal('123.5344252939612197742676194')],\n",
       " [Decimal('80'), Decimal('125.0832381510842585672839339')],\n",
       " [Decimal('79'), Decimal('126.6713202759644802299522535')],\n",
       " [Decimal('78'), Decimal('128.3001835354105363027542118')],\n",
       " [Decimal('77'), Decimal('129.9714183936704943276850538')],\n",
       " [Decimal('76'), Decimal('131.6866990864185404568795911')],\n",
       " [Decimal('75'), Decimal('133.4477892088675777380325788')],\n",
       " [Decimal('74'), Decimal('135.2565477571985801769458289')],\n",
       " [Decimal('73'), Decimal('137.1149356667940620389447803')],\n",
       " [Decimal('72'), Decimal('139.0250228955967626533006755')],\n",
       " [Decimal('71'), Decimal('140.9889961063613197371026854')],\n",
       " [Decimal('70'), Decimal('143.0091670077138969328900964')],\n",
       " [Decimal('69'), Decimal('145.0879814208839989420584979')],\n",
       " [Decimal('68'), Decimal('147.2280291468420379265871072')],\n",
       " [Decimal('67'), Decimal('149.4320547175029717183716038')],\n",
       " [Decimal('66'), Decimal('151.7029691248007820311421912')],\n",
       " [Decimal('65'), Decimal('154.0438626329880925601684910')],\n",
       " [Decimal('64'), Decimal('156.4580187926894528234101948')],\n",
       " [Decimal('63'), Decimal('158.9489297902936991915316431')],\n",
       " [Decimal('62'), Decimal('161.5203132835140956479676531')],\n",
       " [Decimal('61'), Decimal('164.1761308937331880732954976')],\n",
       " [Decimal('60'), Decimal('166.9206085485067612007583009')],\n",
       " [Decimal('59'), Decimal('169.7582588938313761413478735')],\n",
       " [Decimal('58'), Decimal('172.6939060260815980427336207')],\n",
       " [Decimal('57'), Decimal('175.7327128286107180926923325')],\n",
       " [Decimal('56'), Decimal('178.8802112387374422044413491')],\n",
       " [Decimal('55'), Decimal('182.1423358182365995597545448')],\n",
       " [Decimal('54'), Decimal('185.5254610557494015851213710')],\n",
       " [Decimal('53'), Decimal('189.0364428942195270530734997')],\n",
       " [Decimal('52'), Decimal('192.6826650523522613924203856')],\n",
       " [Decimal('51'), Decimal('196.4720907983818558667072619')],\n",
       " [Decimal('50'), Decimal('200.4133209397973958956388034')],\n",
       " [Decimal('49'), Decimal('204.5156589174018201424927125')],\n",
       " [Decimal('48'), Decimal('208.7891840401966956761529669')],\n",
       " [Decimal('47'), Decimal('213.2448340740757868628810590')],\n",
       " [Decimal('46'), Decimal('217.8944986083431349984633819')],\n",
       " [Decimal('45'), Decimal('222.7511248773246497632870775')],\n",
       " [Decimal('44'), Decimal('227.8288380194145730297981630')],\n",
       " [Decimal('43'), Decimal('233.1430781248441734196380579')],\n",
       " [Decimal('42'), Decimal('238.7107568714922378471251239')],\n",
       " [Decimal('41'), Decimal('244.5504370944704503977488801')],\n",
       " [Decimal('40'), Decimal('250.6825393046142969418542380')],\n",
       " [Decimal('39'), Decimal('257.1295799949355312969397493')],\n",
       " [Decimal('38'), Decimal('263.9164475932229086102789159')],\n",
       " [Decimal('37'), Decimal('271.0707231860878431333219256')],\n",
       " [Decimal('36'), Decimal('278.6230547237446794299788777')],\n",
       " [Decimal('35'), Decimal('286.6075954062565626724265589')],\n",
       " [Decimal('34'), Decimal('295.0625194707411312717895737')],\n",
       " [Decimal('33'), Decimal('304.0306318049578995955481076')],\n",
       " [Decimal('32'), Decimal('313.5600919205945487615894039')],\n",
       " [Decimal('31'), Decimal('323.7052781204770110979589531')],\n",
       " [Decimal('30'), Decimal('334.5278245856382925030078947')],\n",
       " [Decimal('29'), Decimal('346.0978731394105410340909363')],\n",
       " [Decimal('28'), Decimal('358.4955933807972829154769021')],\n",
       " [Decimal('27'), Decimal('371.8130407941654190186847321')],\n",
       " [Decimal('26'), Decimal('386.1564438678788003763370603')],\n",
       " [Decimal('25'), Decimal('401.6490403958580978484003227')],\n",
       " [Decimal('24'), Decimal('418.4346232090683341886931781')],\n",
       " [Decimal('23'), Decimal('436.6820113429246619807536356')],\n",
       " [Decimal('22'), Decimal('456.5907412236952727077521226')],\n",
       " [Decimal('21'), Decimal('478.3983847211889088293897177')],\n",
       " [Decimal('20'), Decimal('502.3900637149565326086774121')],\n",
       " [Decimal('19'), Decimal('528.9109707626460800948815031')],\n",
       " [Decimal('18'), Decimal('558.3830654112535255597813179')],\n",
       " [Decimal('17'), Decimal('591.3276662705174835698596543')],\n",
       " [Decimal('16'), Decimal('628.3965193498505483234532589')],\n",
       " [Decimal('15'), Decimal('670.4152999437105549906310598')],\n",
       " [Decimal('14'), Decimal('718.4457675039635326118789473')],\n",
       " [Decimal('13'), Decimal('773.8766217198462574776159901')],\n",
       " [Decimal('12'), Decimal('838.5598093519300738358141130')],\n",
       " [Decimal('11'), Decimal('915.0212174228378796639677180')],\n",
       " [Decimal('10'), Decimal('1006.797845530348518999977992')],\n",
       " [Decimal('9'), Decimal('1118.999872093341803957739382')],\n",
       " [Decimal('8'), Decimal('1259.294481057044532637676157')],\n",
       " [Decimal('7'), Decimal('1439.733390271361056396852184')],\n",
       " [Decimal('6'), Decimal('1680.408822011723579672844544')],\n",
       " [Decimal('5'), Decimal('2017.498831707275329776205481')],\n",
       " [Decimal('4'), Decimal('2523.386663757874618749087229')],\n",
       " [Decimal('3'), Decimal('3367.038938340924033003393932')],\n",
       " [Decimal('2'), Decimal('5055.608965918897435659731856')],\n",
       " [Decimal('1'), Decimal('10126.38475873555156394216592')]]"
      ]
     },
     "execution_count": 12,
     "metadata": {},
     "output_type": "execute_result"
    }
   ],
   "source": [
    "balances"
   ]
  },
  {
   "cell_type": "code",
   "execution_count": 13,
   "metadata": {},
   "outputs": [
    {
     "name": "stdout",
     "output_type": "stream",
     "text": [
      "1 10029.70000000000000061825545\n"
     ]
    }
   ],
   "source": [
    "# 1 individual swap\n",
    "wp = WeightedPool()\n",
    "wp._swap_fee = Decimal(0.003)\n",
    "\n",
    "wp.join_pool({'a':100,'b':100},{'a':0.5,'b':0.5})\n",
    "\n",
    "wp.swap('b', 'a', 99, given_in=False)\n",
    "print(wp._balances['a'], wp._balances['b'])"
   ]
  },
  {
   "cell_type": "code",
   "execution_count": 14,
   "metadata": {},
   "outputs": [
    {
     "data": {
      "text/plain": [
       "{'a': Decimal('0'), 'b': Decimal('29.70000000000000061825544684')}"
      ]
     },
     "execution_count": 14,
     "metadata": {},
     "output_type": "execute_result"
    }
   ],
   "source": [
    "wp.factory_fees"
   ]
  },
  {
   "cell_type": "markdown",
   "metadata": {},
   "source": [
    "### Conclusion\n",
    "Both transactions appear to end up with the same result of no difference"
   ]
  },
  {
   "cell_type": "markdown",
   "metadata": {},
   "source": [
    "# Extras"
   ]
  },
  {
   "cell_type": "code",
   "execution_count": 15,
   "metadata": {},
   "outputs": [],
   "source": [
    "from BalancerV2cad.WeightedMath import WeightedMath\n",
    "import pandas as pd\n",
    "import numpy as np\n",
    "\n",
    "import matplotlib.pyplot as plt\n",
    "from matplotlib.pyplot import figure\n",
    "\n",
    "%matplotlib inline\n",
    "\n",
    "# calculate_invariant(normalized_weights: List[Decimal], balances: List[Decimal])\n",
    "# calc_out_given_in(balance_in: Decimal, weight_in: Decimal, balance_out: Decimal, weight_out: Decimal, amount_in: Decimal)\n",
    "\n",
    "# Returns a pandas df with points along the curve for a provided weighted pool\n",
    "# Calculated '98' incremental points along the curve.\n",
    "# asset_i :- the asset that the trader gives the pool in exchange for asset_o\n",
    "def calcCurve(wp, asset_i, asset_o):\n",
    "\n",
    "    # when index < 0, asset_o is being depleted % proportionally. eg index=-99 <--> 99% of asset_o purchased\n",
    "    index = pd.Series(range(-49,50,1))\n",
    "    columns = ['asset_i', 'asset_o', 'invariant', 'price']\n",
    "    asset_i_balances = []\n",
    "    asset_o_balances = []\n",
    "    invariants = []\n",
    "\n",
    "    # -99 ~ -1 o=a, i=b\n",
    "    for i in pd.Series(range(-49,0,1)):\n",
    "        asset_i_balances.append(wp._balances[asset_i] + (Decimal(i)/100) * wp._balances[asset_i])\n",
    "        asset_out = wp._balances[asset_i] - asset_i_balances[-1]\n",
    "        asset_o_balances.append(wp._balances[asset_o] + WeightedMath.calc_in_given_out(wp._balances[asset_o], wp._weights[asset_o], wp._balances[asset_i], wp._weights[asset_i], asset_out))\n",
    "        invariants.append(WeightedMath.calculate_invariant(list(wp._weights.values()), list(wp._balances.values())))\n",
    "        \n",
    "        \n",
    "    # 0 ~ 99 o=b, i=a\n",
    "    for i in pd.Series(range(0,50,1)):\n",
    "        asset_o_balances.append(wp._balances[asset_o] - (Decimal(i)/100) * wp._balances[asset_o])\n",
    "        asset_out = wp._balances[asset_o] - asset_o_balances[-1]\n",
    "        asset_i_balances.append(wp._balances[asset_i] + WeightedMath.calc_in_given_out(wp._balances[asset_i], wp._weights[asset_i], wp._balances[asset_o], wp._weights[asset_o], asset_out))\n",
    "        invariants.append(WeightedMath.calculate_invariant(list(wp._weights.values()), list(wp._balances.values())))\n",
    "\n",
    "    prices = []\n",
    "    for i in range(len(asset_i_balances)):\n",
    "        prices.append((asset_i_balances[i]/wp._weights[asset_i])/(asset_o_balances[i]/wp._weights[asset_o]))\n",
    "        \n",
    "    data = np.column_stack([asset_i_balances, asset_o_balances, invariants, prices])\n",
    "\n",
    "    df = pd.DataFrame(data, index=index, columns=columns)\n",
    "\n",
    "    return df"
   ]
  },
  {
   "cell_type": "code",
   "execution_count": 16,
   "metadata": {
    "scrolled": true
   },
   "outputs": [],
   "source": [
    "# wp = WeightedPool()\n",
    "# wp.join_pool({'a':100,'b':100},{'a':0.5,'b':0.5})\n",
    "# wp.swap_fee = 0.0\n",
    "\n",
    "# # when index < 0, asset_o is being depleted % proportionally. eg index=-99 <--> 99% of asset_o purchased\n",
    "# index = pd.Series(range(-99,100,1))\n",
    "# columns = ['asset_i', 'asset_o', 'invariant']\n",
    "# asset_i_balances = []\n",
    "# asset_o_balances = []\n",
    "# invariants = []\n",
    "\n",
    "# # -99 ~ -1 o=a, i=b\n",
    "# for i in pd.Series(range(-99,0,1)):\n",
    "#     asset_i_balances.append(wp._balances['a'] + (Decimal(i)/100) * wp._balances['a'])\n",
    "#     asset_out = wp._balances['a'] - asset_i_balances[-1]\n",
    "#     asset_o_balances.append(wp._balances['b'] + WeightedMath.calc_in_given_out(wp._balances['b'], wp._weights['b'], wp._balances['a'], wp._weights['a'], asset_out))\n",
    "#     invariants.append(WeightedMath.calculate_invariant(list(wp._weights.values()), list(wp._balances.values())))\n",
    "    \n",
    "# # 0 ~ 99 o=b, i=a\n",
    "# for i in pd.Series(range(0,100,1)):\n",
    "#     asset_o_balances.append(wp._balances['b'] - (Decimal(i)/100) * wp._balances['b'])\n",
    "#     asset_out = wp._balances['b'] - asset_o_balances[-1]\n",
    "#     asset_i_balances.append(wp._balances['a'] + WeightedMath.calc_in_given_out(wp._balances['a'], wp._weights['a'], wp._balances['b'], wp._weights['b'], asset_out))\n",
    "#     invariants.append(WeightedMath.calculate_invariant(list(wp._weights.values()), list(wp._balances.values())))\n",
    "    \n",
    "# data = np.column_stack([asset_i_balances, asset_o_balances, invariants])\n",
    "    \n",
    "# df = pd.DataFrame(data, index=index, columns=columns)\n",
    "\n",
    "# return df"
   ]
  },
  {
   "cell_type": "code",
   "execution_count": 17,
   "metadata": {},
   "outputs": [],
   "source": [
    "wp = WeightedPool()\n",
    "wp.join_pool({'a':100,'b':100},{'a':0.5,'b':0.5})\n",
    "wp.swap_fee = 0.0\n",
    "\n",
    "df5050 = calcCurve(wp, 'a', 'b')"
   ]
  },
  {
   "cell_type": "code",
   "execution_count": 18,
   "metadata": {
    "scrolled": false
   },
   "outputs": [],
   "source": [
    "wp2 = WeightedPool()\n",
    "wp2.join_pool({'a':100,'b':100},{'a':0.4,'b':0.6})\n",
    "wp2.swap_fee = 0.0\n",
    "\n",
    "df6040 = calcCurve(wp2, 'a', 'b')"
   ]
  },
  {
   "cell_type": "code",
   "execution_count": 19,
   "metadata": {},
   "outputs": [],
   "source": [
    "wp3 = WeightedPool()\n",
    "wp3.join_pool({'a':100,'b':100},{'a':0.3,'b':0.7})\n",
    "wp3.swap_fee = 0.0\n",
    "\n",
    "df7030 = calcCurve(wp3, 'a', 'b')"
   ]
  },
  {
   "cell_type": "code",
   "execution_count": 20,
   "metadata": {},
   "outputs": [],
   "source": [
    "wp4 = WeightedPool()\n",
    "wp4.join_pool({'a':100,'b':100},{'a':0.2,'b':0.8})\n",
    "wp4.swap_fee = 0.0\n",
    "\n",
    "df8020 = calcCurve(wp4, 'a', 'b')"
   ]
  },
  {
   "cell_type": "code",
   "execution_count": 21,
   "metadata": {},
   "outputs": [
    {
     "data": {
      "image/png": "[encoded data removed]",
      "text/plain": [
       "<Figure size 864x864 with 1 Axes>"
      ]
     },
     "metadata": {
      "needs_background": "light"
     },
     "output_type": "display_data"
    }
   ],
   "source": [
    "from matplotlib.legend_handler import HandlerLine2D\n",
    "\n",
    "plt.figure(figsize=(12, 12))\n",
    "line1, = plt.plot(df5050['asset_i'], df5050['asset_o'], color='midnightblue', label=\"50:50\")\n",
    "line2, = plt.plot(df6040['asset_i'], df6040['asset_o'], color='blue', label=\"60:40\")\n",
    "line3, = plt.plot(df7030['asset_i'], df7030['asset_o'], color='cornflowerblue', label=\"70:30\")\n",
    "line4, = plt.plot(df8020['asset_i'], df8020['asset_o'], color='lightblue', label=\"80:20\")\n",
    "\n",
    "\n",
    "plt.legend(handler_map={line1: HandlerLine2D(numpoints=4)})\n",
    "\n",
    "plt.xlabel(\"token_A\")\n",
    "plt.ylabel(\"token_B\")\n",
    "\n",
    "#plt.xscale(\"log\")\n",
    "#plt.yscale(\"log\")\n",
    "plt.show()"
   ]
  },
  {
   "cell_type": "code",
   "execution_count": 22,
   "metadata": {},
   "outputs": [
    {
     "data": {
      "image/png": "[encoded data removed]",
      "text/plain": [
       "<Figure size 864x864 with 1 Axes>"
      ]
     },
     "metadata": {
      "needs_background": "light"
     },
     "output_type": "display_data"
    }
   ],
   "source": [
    "from matplotlib.legend_handler import HandlerLine2D\n",
    "\n",
    "plt.figure(figsize=(12, 12))\n",
    "line1, = plt.plot(df5050.index, df5050['price'], color='midnightblue', label=\"50:50\")\n",
    "line2, = plt.plot(df6040.index, df6040['price'], color='blue', label=\"60:40\")\n",
    "line3, = plt.plot(df7030.index, df7030['price'], color='cornflowerblue', label=\"70:30\")\n",
    "line4, = plt.plot(df8020.index, df8020['price'], color='lightblue', label=\"80:20\")\n",
    "\n",
    "plt.legend(handler_map={line1: HandlerLine2D(numpoints=4)})\n",
    "\n",
    "plt.xlabel(\"token_A\")\n",
    "plt.ylabel(\"Price(asset_out=b)\")\n",
    "\n",
    "#plt.xscale(\"log\")\n",
    "#plt.yscale(\"log\")\n",
    "plt.show()"
   ]
  },
  {
   "cell_type": "code",
   "execution_count": 23,
   "metadata": {},
   "outputs": [],
   "source": [
    "wp = WeightedPool()\n",
    "wp.join_pool({'a':100,'b':100},{'a':0.5,'b':0.5})\n",
    "wp.swap_fee = 0.0\n",
    "\n",
    "df = calcCurve(wp, 'a', 'b')"
   ]
  },
  {
   "cell_type": "code",
   "execution_count": 24,
   "metadata": {},
   "outputs": [],
   "source": [
    "p_df = df[df['asset_i']>100]"
   ]
  },
  {
   "cell_type": "code",
   "execution_count": 25,
   "metadata": {},
   "outputs": [
    {
     "data": {
      "image/png": "[encoded data removed]",
      "text/plain": [
       "<Figure size 432x432 with 1 Axes>"
      ]
     },
     "metadata": {
      "needs_background": "light"
     },
     "output_type": "display_data"
    }
   ],
   "source": [
    "plt.figure(figsize=(6, 6))\n",
    "plt.plot(p_df['asset_i'], p_df['asset_o'])\n",
    "plt.xlabel(\"token_A\")\n",
    "plt.ylabel(\"token_B\")\n",
    "\n",
    "\n",
    "plt.show()\n"
   ]
  },
  {
   "cell_type": "code",
   "execution_count": null,
   "metadata": {},
   "outputs": [],
   "source": []
  }
 ],
 "metadata": {
  "kernelspec": {
   "display_name": "Python 3",
   "language": "python",
   "name": "python3"
  },
  "language_info": {
   "codemirror_mode": {
    "name": "ipython",
    "version": 3
   },
   "file_extension": ".py",
   "mimetype": "text/x-python",
   "name": "python",
   "nbconvert_exporter": "python",
   "pygments_lexer": "ipython3",
   "version": "3.8.3"
  }
 },
 "nbformat": 4,
 "nbformat_minor": 4
}
